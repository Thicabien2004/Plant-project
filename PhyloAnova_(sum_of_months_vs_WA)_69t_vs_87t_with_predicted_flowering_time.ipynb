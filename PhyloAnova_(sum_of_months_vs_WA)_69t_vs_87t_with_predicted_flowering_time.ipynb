{
  "nbformat": 4,
  "nbformat_minor": 0,
  "metadata": {
    "colab": {
      "provenance": [],
      "mount_file_id": "1gHkoHg_9mSCregFqWDskm61BwWNZZ_SP",
      "authorship_tag": "ABX9TyOKwpEwGBDFyvP2eVvuiun1",
      "include_colab_link": true
    },
    "kernelspec": {
      "name": "python3",
      "display_name": "Python 3"
    },
    "language_info": {
      "name": "python"
    }
  },
  "cells": [
    {
      "cell_type": "markdown",
      "metadata": {
        "id": "view-in-github",
        "colab_type": "text"
      },
      "source": [
        "<a href=\"https://colab.research.google.com/github/Thicabien2004/Plant-project/blob/main/PhyloAnova_(sum_of_months_vs_WA)_69t_vs_87t_with_predicted_flowering_time.ipynb\" target=\"_parent\"><img src=\"https://colab.research.google.com/assets/colab-badge.svg\" alt=\"Open In Colab\"/></a>"
      ]
    },
    {
      "cell_type": "code",
      "execution_count": null,
      "metadata": {
        "id": "AIR8GaGJGkV1",
        "colab": {
          "base_uri": "https://localhost:8080/"
        },
        "outputId": "c51b35cf-2f46-4db2-9734-f95260f9f4a8"
      },
      "outputs": [
        {
          "output_type": "stream",
          "name": "stdout",
          "text": [
            "The rpy2.ipython extension is already loaded. To reload it, use:\n",
            "  %reload_ext rpy2.ipython\n"
          ]
        }
      ],
      "source": [
        "# Add this at the top of your notebook\n",
        "%load_ext rpy2.ipython\n"
      ]
    },
    {
      "cell_type": "code",
      "source": [
        "from google.colab import drive\n",
        "drive.mount('/content/drive')"
      ],
      "metadata": {
        "colab": {
          "base_uri": "https://localhost:8080/"
        },
        "id": "owkwrftsGn9K",
        "outputId": "51043dd3-90ef-42b4-9af0-8549a7d99950"
      },
      "execution_count": null,
      "outputs": [
        {
          "output_type": "stream",
          "name": "stdout",
          "text": [
            "Drive already mounted at /content/drive; to attempt to forcibly remount, call drive.mount(\"/content/drive\", force_remount=True).\n"
          ]
        }
      ]
    },
    {
      "cell_type": "code",
      "source": [
        "%%R\n",
        "install.packages(\"phytools\")\n",
        "install.packages(\"caper\")\n",
        "install.packages(\"geiger\")\n",
        "install.packages(\"ape\")\n",
        "install.packages(\"readxl\")"
      ],
      "metadata": {
        "colab": {
          "base_uri": "https://localhost:8080/",
          "height": 1000
        },
        "id": "n-6PKYSpGxDl",
        "outputId": "a8194fdc-e824-4b2d-cc3a-e597dc5b4cc5"
      },
      "execution_count": null,
      "outputs": [
        {
          "output_type": "display_data",
          "data": {
            "text/plain": [
              "Installing package into ‘/usr/local/lib/R/site-library’\n",
              "(as ‘lib’ is unspecified)\n",
              "also installing the dependencies ‘iterators’, ‘fastmatch’, ‘igraph’, ‘quadprog’, ‘ape’, ‘maps’, ‘clusterGeneration’, ‘coda’, ‘combinat’, ‘DEoptim’, ‘doParallel’, ‘expm’, ‘foreach’, ‘mnormt’, ‘numDeriv’, ‘optimParallel’, ‘phangorn’, ‘scatterplot3d’\n",
              "\n",
              "trying URL 'https://cran.rstudio.com/src/contrib/iterators_1.0.14.tar.gz'\n",
              "trying URL 'https://cran.rstudio.com/src/contrib/fastmatch_1.1-6.tar.gz'\n",
              "trying URL 'https://cran.rstudio.com/src/contrib/igraph_2.1.4.tar.gz'\n",
              "trying URL 'https://cran.rstudio.com/src/contrib/quadprog_1.5-8.tar.gz'\n",
              "trying URL 'https://cran.rstudio.com/src/contrib/ape_5.8-1.tar.gz'\n",
              "trying URL 'https://cran.rstudio.com/src/contrib/maps_3.4.3.tar.gz'\n",
              "trying URL 'https://cran.rstudio.com/src/contrib/clusterGeneration_1.3.8.tar.gz'\n",
              "trying URL 'https://cran.rstudio.com/src/contrib/coda_0.19-4.1.tar.gz'\n",
              "trying URL 'https://cran.rstudio.com/src/contrib/combinat_0.0-8.tar.gz'\n",
              "trying URL 'https://cran.rstudio.com/src/contrib/DEoptim_2.2-8.tar.gz'\n",
              "trying URL 'https://cran.rstudio.com/src/contrib/doParallel_1.0.17.tar.gz'\n",
              "trying URL 'https://cran.rstudio.com/src/contrib/expm_1.0-0.tar.gz'\n",
              "trying URL 'https://cran.rstudio.com/src/contrib/foreach_1.5.2.tar.gz'\n",
              "trying URL 'https://cran.rstudio.com/src/contrib/mnormt_2.1.1.tar.gz'\n",
              "trying URL 'https://cran.rstudio.com/src/contrib/numDeriv_2016.8-1.1.tar.gz'\n",
              "trying URL 'https://cran.rstudio.com/src/contrib/optimParallel_1.0-2.tar.gz'\n",
              "trying URL 'https://cran.rstudio.com/src/contrib/phangorn_2.12.1.tar.gz'\n",
              "trying URL 'https://cran.rstudio.com/src/contrib/scatterplot3d_0.3-44.tar.gz'\n",
              "trying URL 'https://cran.rstudio.com/src/contrib/phytools_2.4-4.tar.gz'\n",
              "\n",
              "The downloaded source packages are in\n",
              "\t‘/tmp/RtmpK2drLO/downloaded_packages’\n",
              "Installing package into ‘/usr/local/lib/R/site-library’\n",
              "(as ‘lib’ is unspecified)\n",
              "also installing the dependency ‘mvtnorm’\n",
              "\n",
              "trying URL 'https://cran.rstudio.com/src/contrib/mvtnorm_1.3-3.tar.gz'\n",
              "trying URL 'https://cran.rstudio.com/src/contrib/caper_1.0.3.tar.gz'\n",
              "\n",
              "The downloaded source packages are in\n",
              "\t‘/tmp/RtmpK2drLO/downloaded_packages’\n",
              "Installing package into ‘/usr/local/lib/R/site-library’\n",
              "(as ‘lib’ is unspecified)\n",
              "also installing the dependencies ‘subplex’, ‘deSolve’, ‘ncbit’, ‘colorspace’\n",
              "\n",
              "trying URL 'https://cran.rstudio.com/src/contrib/subplex_1.9.tar.gz'\n",
              "trying URL 'https://cran.rstudio.com/src/contrib/deSolve_1.40.tar.gz'\n",
              "trying URL 'https://cran.rstudio.com/src/contrib/ncbit_2013.03.29.1.tar.gz'\n",
              "trying URL 'https://cran.rstudio.com/src/contrib/colorspace_2.1-1.tar.gz'\n",
              "trying URL 'https://cran.rstudio.com/src/contrib/geiger_2.0.11.tar.gz'\n",
              "\n",
              "The downloaded source packages are in\n",
              "\t‘/tmp/RtmpK2drLO/downloaded_packages’\n",
              "Installing package into ‘/usr/local/lib/R/site-library’\n",
              "(as ‘lib’ is unspecified)\n",
              "trying URL 'https://cran.rstudio.com/src/contrib/ape_5.8-1.tar.gz'\n",
              "Content type 'application/x-gzip' length 1424541 bytes (1.4 MB)\n",
              "==================================================\n",
              "downloaded 1.4 MB\n",
              "\n",
              "\n",
              "The downloaded source packages are in\n",
              "\t‘/tmp/RtmpK2drLO/downloaded_packages’\n",
              "Installing package into ‘/usr/local/lib/R/site-library’\n",
              "(as ‘lib’ is unspecified)\n",
              "trying URL 'https://cran.rstudio.com/src/contrib/readxl_1.4.5.tar.gz'\n",
              "Content type 'application/x-gzip' length 1636512 bytes (1.6 MB)\n",
              "==================================================\n",
              "downloaded 1.6 MB\n",
              "\n",
              "\n",
              "The downloaded source packages are in\n",
              "\t‘/tmp/RtmpK2drLO/downloaded_packages’\n"
            ]
          },
          "metadata": {}
        }
      ]
    },
    {
      "cell_type": "code",
      "source": [
        "%%R\n",
        "library(phytools)\n",
        "library(caper)\n",
        "library(geiger)\n",
        "library(ape)\n",
        "library(readxl)\n"
      ],
      "metadata": {
        "id": "Np6hyZ3OGn_E"
      },
      "execution_count": null,
      "outputs": []
    },
    {
      "cell_type": "code",
      "source": [
        "%%R\n",
        "tree <-read.tree(\"/content/drive/MyDrive/PLANT RESEARCH/datasets/Copy of Rham.69t.WAonly.tree\")\n",
        "print(list(tree$tip.label))\n",
        "print(tree)\n"
      ],
      "metadata": {
        "colab": {
          "base_uri": "https://localhost:8080/"
        },
        "id": "9WkPOMrlJ6KX",
        "outputId": "d39fb143-ad51-45c3-99e2-b3d8bc9bdff0"
      },
      "execution_count": null,
      "outputs": [
        {
          "output_type": "stream",
          "name": "stdout",
          "text": [
            "[[1]]\n",
            " [1] \"Trymalium_angustifolium\"    \"Trymalium_urceolare\"       \n",
            " [3] \"Trymalium_ledifolium\"       \"Trymalium_monospermum\"     \n",
            " [5] \"Trymalium_litorale\"         \"Trymalium_daphnifolium\"    \n",
            " [7] \"Trymalium_myrtillus\"        \"Trymalium_elachophyllum\"   \n",
            " [9] \"Polianthion_wichurae\"       \"Polianthion_biloculare\"    \n",
            "[11] \"Polianthion_collinum\"       \"Stenanthemum_notiale\"      \n",
            "[13] \"Stenanthemum_intricatum\"    \"Stenanthemum_nanum\"        \n",
            "[15] \"Stenanthemum_coronatum\"     \"Stenanthemum_limitatum\"    \n",
            "[17] \"Stenanthemum_emarginatum\"   \"Stenanthemum_tridentatum\"  \n",
            "[19] \"Stenanthemum_reissekii\"     \"Stenanthemum_complicatum\"  \n",
            "[21] \"Stenanthemum_pumilum\"       \"Stenanthemum_humile\"       \n",
            "[23] \"Stenanthemum_sublineare\"    \"Stenanthemum_mediale\"      \n",
            "[25] \"Stenanthemum_petraeum\"      \"Stenanthemum_pomaderroides\"\n",
            "[27] \"Stenanthemum_stipulosum\"    \"Stenanthemum_newbeyi\"      \n",
            "[29] \"Cryptandra_pungens\"         \"Cryptandra_inconspicua\"    \n",
            "[31] \"Cryptandra_mutila\"          \"Cryptandra_glabriflora\"    \n",
            "[33] \"Cryptandra_spyridioides\"    \"Cryptandra_arbutiflora\"    \n",
            "[35] \"Cryptandra_congesta\"        \"Cryptandra_scoparia\"       \n",
            "[37] \"Cryptandra_nutans\"          \"Cryptandra_distigma\"       \n",
            "[39] \"Cryptandra_monticola\"       \"Cryptandra_apetala\"        \n",
            "[41] \"Cryptandra_recurva\"         \"Cryptandra_nola\"           \n",
            "[43] \"Cryptandra_dielsii\"         \"Cryptandra_intonsa\"        \n",
            "[45] \"Cryptandra_leucopogon\"      \"Cryptandra_intratropica\"   \n",
            "[47] \"Cryptandra_connata\"         \"Cryptandra_imbricata\"      \n",
            "[49] \"Cryptandra_myriantha\"       \"Cryptandra_micrantha\"      \n",
            "[51] \"Cryptandra_wilsonii\"        \"Cryptandra_minutifolia\"    \n",
            "[53] \"Cryptandra_aridicola\"       \"Spyridium_subochreatum\"    \n",
            "[55] \"Spyridium_oligocephalum\"    \"Spyridium_polycephalum\"    \n",
            "[57] \"Spyridium_cordatum\"         \"Spyridium_microcephalum\"   \n",
            "[59] \"Spyridium_minutum\"          \"Spyridium_mucronatum\"      \n",
            "[61] \"Spyridium_globulosum\"       \"Spyridium_majoranifolium\"  \n",
            "[63] \"Spyridium_glaucum\"          \"Siegfriedia_darwinioides\"  \n",
            "[65] \"Pomaderris_brevifolia\"      \"Pomaderris_myrtilloides\"   \n",
            "[67] \"Pomaderris_forrestiana\"     \"Pomaderris_rotundifolia\"   \n",
            "[69] \"Pomaderris_paniculosa\"     \n",
            "\n",
            "\n",
            "Phylogenetic tree with 69 tips and 67 internal nodes.\n",
            "\n",
            "Tip labels:\n",
            "  Trymalium_angustifolium, Trymalium_urceolare, Trymalium_ledifolium, Trymalium_monospermum, Trymalium_litorale, Trymalium_daphnifolium, ...\n",
            "\n",
            "Rooted; includes branch length(s).\n"
          ]
        }
      ]
    },
    {
      "cell_type": "code",
      "source": [
        "%%R\n",
        "tip_label_list <- as.list(tree$tip.label)\n",
        "print(tip_label_list)"
      ],
      "metadata": {
        "colab": {
          "base_uri": "https://localhost:8080/"
        },
        "id": "zg-u65yGHA_J",
        "outputId": "ed4d438b-796e-4424-a3b0-b936ae896d73"
      },
      "execution_count": null,
      "outputs": [
        {
          "output_type": "stream",
          "name": "stdout",
          "text": [
            "[[1]]\n",
            "[1] \"Trymalium_angustifolium\"\n",
            "\n",
            "[[2]]\n",
            "[1] \"Trymalium_urceolare\"\n",
            "\n",
            "[[3]]\n",
            "[1] \"Trymalium_ledifolium\"\n",
            "\n",
            "[[4]]\n",
            "[1] \"Trymalium_monospermum\"\n",
            "\n",
            "[[5]]\n",
            "[1] \"Trymalium_litorale\"\n",
            "\n",
            "[[6]]\n",
            "[1] \"Trymalium_daphnifolium\"\n",
            "\n",
            "[[7]]\n",
            "[1] \"Trymalium_myrtillus\"\n",
            "\n",
            "[[8]]\n",
            "[1] \"Trymalium_elachophyllum\"\n",
            "\n",
            "[[9]]\n",
            "[1] \"Polianthion_wichurae\"\n",
            "\n",
            "[[10]]\n",
            "[1] \"Polianthion_biloculare\"\n",
            "\n",
            "[[11]]\n",
            "[1] \"Polianthion_collinum\"\n",
            "\n",
            "[[12]]\n",
            "[1] \"Stenanthemum_notiale\"\n",
            "\n",
            "[[13]]\n",
            "[1] \"Stenanthemum_intricatum\"\n",
            "\n",
            "[[14]]\n",
            "[1] \"Stenanthemum_nanum\"\n",
            "\n",
            "[[15]]\n",
            "[1] \"Stenanthemum_coronatum\"\n",
            "\n",
            "[[16]]\n",
            "[1] \"Stenanthemum_limitatum\"\n",
            "\n",
            "[[17]]\n",
            "[1] \"Stenanthemum_emarginatum\"\n",
            "\n",
            "[[18]]\n",
            "[1] \"Stenanthemum_tridentatum\"\n",
            "\n",
            "[[19]]\n",
            "[1] \"Stenanthemum_reissekii\"\n",
            "\n",
            "[[20]]\n",
            "[1] \"Stenanthemum_complicatum\"\n",
            "\n",
            "[[21]]\n",
            "[1] \"Stenanthemum_pumilum\"\n",
            "\n",
            "[[22]]\n",
            "[1] \"Stenanthemum_humile\"\n",
            "\n",
            "[[23]]\n",
            "[1] \"Stenanthemum_sublineare\"\n",
            "\n",
            "[[24]]\n",
            "[1] \"Stenanthemum_mediale\"\n",
            "\n",
            "[[25]]\n",
            "[1] \"Stenanthemum_petraeum\"\n",
            "\n",
            "[[26]]\n",
            "[1] \"Stenanthemum_pomaderroides\"\n",
            "\n",
            "[[27]]\n",
            "[1] \"Stenanthemum_stipulosum\"\n",
            "\n",
            "[[28]]\n",
            "[1] \"Stenanthemum_newbeyi\"\n",
            "\n",
            "[[29]]\n",
            "[1] \"Cryptandra_pungens\"\n",
            "\n",
            "[[30]]\n",
            "[1] \"Cryptandra_inconspicua\"\n",
            "\n",
            "[[31]]\n",
            "[1] \"Cryptandra_mutila\"\n",
            "\n",
            "[[32]]\n",
            "[1] \"Cryptandra_glabriflora\"\n",
            "\n",
            "[[33]]\n",
            "[1] \"Cryptandra_spyridioides\"\n",
            "\n",
            "[[34]]\n",
            "[1] \"Cryptandra_arbutiflora\"\n",
            "\n",
            "[[35]]\n",
            "[1] \"Cryptandra_congesta\"\n",
            "\n",
            "[[36]]\n",
            "[1] \"Cryptandra_scoparia\"\n",
            "\n",
            "[[37]]\n",
            "[1] \"Cryptandra_nutans\"\n",
            "\n",
            "[[38]]\n",
            "[1] \"Cryptandra_distigma\"\n",
            "\n",
            "[[39]]\n",
            "[1] \"Cryptandra_monticola\"\n",
            "\n",
            "[[40]]\n",
            "[1] \"Cryptandra_apetala\"\n",
            "\n",
            "[[41]]\n",
            "[1] \"Cryptandra_recurva\"\n",
            "\n",
            "[[42]]\n",
            "[1] \"Cryptandra_nola\"\n",
            "\n",
            "[[43]]\n",
            "[1] \"Cryptandra_dielsii\"\n",
            "\n",
            "[[44]]\n",
            "[1] \"Cryptandra_intonsa\"\n",
            "\n",
            "[[45]]\n",
            "[1] \"Cryptandra_leucopogon\"\n",
            "\n",
            "[[46]]\n",
            "[1] \"Cryptandra_intratropica\"\n",
            "\n",
            "[[47]]\n",
            "[1] \"Cryptandra_connata\"\n",
            "\n",
            "[[48]]\n",
            "[1] \"Cryptandra_imbricata\"\n",
            "\n",
            "[[49]]\n",
            "[1] \"Cryptandra_myriantha\"\n",
            "\n",
            "[[50]]\n",
            "[1] \"Cryptandra_micrantha\"\n",
            "\n",
            "[[51]]\n",
            "[1] \"Cryptandra_wilsonii\"\n",
            "\n",
            "[[52]]\n",
            "[1] \"Cryptandra_minutifolia\"\n",
            "\n",
            "[[53]]\n",
            "[1] \"Cryptandra_aridicola\"\n",
            "\n",
            "[[54]]\n",
            "[1] \"Spyridium_subochreatum\"\n",
            "\n",
            "[[55]]\n",
            "[1] \"Spyridium_oligocephalum\"\n",
            "\n",
            "[[56]]\n",
            "[1] \"Spyridium_polycephalum\"\n",
            "\n",
            "[[57]]\n",
            "[1] \"Spyridium_cordatum\"\n",
            "\n",
            "[[58]]\n",
            "[1] \"Spyridium_microcephalum\"\n",
            "\n",
            "[[59]]\n",
            "[1] \"Spyridium_minutum\"\n",
            "\n",
            "[[60]]\n",
            "[1] \"Spyridium_mucronatum\"\n",
            "\n",
            "[[61]]\n",
            "[1] \"Spyridium_globulosum\"\n",
            "\n",
            "[[62]]\n",
            "[1] \"Spyridium_majoranifolium\"\n",
            "\n",
            "[[63]]\n",
            "[1] \"Spyridium_glaucum\"\n",
            "\n",
            "[[64]]\n",
            "[1] \"Siegfriedia_darwinioides\"\n",
            "\n",
            "[[65]]\n",
            "[1] \"Pomaderris_brevifolia\"\n",
            "\n",
            "[[66]]\n",
            "[1] \"Pomaderris_myrtilloides\"\n",
            "\n",
            "[[67]]\n",
            "[1] \"Pomaderris_forrestiana\"\n",
            "\n",
            "[[68]]\n",
            "[1] \"Pomaderris_rotundifolia\"\n",
            "\n",
            "[[69]]\n",
            "[1] \"Pomaderris_paniculosa\"\n",
            "\n"
          ]
        }
      ]
    },
    {
      "cell_type": "code",
      "source": [
        "%%R\n",
        "dd <- read.csv(\"/content/drive/MyDrive/PLANT RESEARCH/datasets/Copy of Rham-69t.subset.csv\")\n",
        "colnames(dd)"
      ],
      "metadata": {
        "colab": {
          "base_uri": "https://localhost:8080/"
        },
        "id": "S9KyZxeIHEkL",
        "outputId": "eba52f69-be48-4894-fe6b-cefcae17fabd"
      },
      "execution_count": null,
      "outputs": [
        {
          "output_type": "stream",
          "name": "stdout",
          "text": [
            " [1] \"species\"             \"X.\"                  \"X..\"                \n",
            " [4] \"WA\"                  \"Age\"                 \"Ploidy\"             \n",
            " [7] \"log.length\"          \"log.area\"            \"log.turn\"           \n",
            "[10] \"log.netd\"            \"log.spec\"            \"ORDER\"              \n",
            "[13] \"species.1\"           \"Rare..Yes.No.\"       \"EPBC\"               \n",
            "[16] \"WA.1\"                \"January\"             \"February\"           \n",
            "[19] \"March\"               \"April\"               \"May\"                \n",
            "[22] \"June\"                \"July\"                \"August\"             \n",
            "[25] \"September\"           \"October\"             \"November\"           \n",
            "[28] \"December\"            \"genus\"               \"Sum.of.Months\"      \n",
            "[31] \"bio15\"               \"bio12\"               \"bio7\"               \n",
            "[34] \"bio4\"                \"AGE..Ma.\"            \"ploidy\"             \n",
            "[37] \"Length..km.\"         \"Area..km2.\"          \"speciation\"         \n",
            "[40] \"Cluster\"             \"Category_Sum_Months\"\n"
          ]
        }
      ]
    },
    {
      "cell_type": "code",
      "source": [
        "%%R\n",
        "# which are mismatched?\n",
        "tree_not_dd <- tree$tip.label[which(!tree$tip.label %in% dd$species)]\n",
        "dd_not_tree <- dd$species[which(!dd$species %in% tree$tip.label)]\n",
        "\n",
        "# drop mismatched\n",
        "dd <- dd[which(!dd$species %in% dd_not_tree ),]\n",
        "tree <- drop.tip(tree, tree_not_dd)"
      ],
      "metadata": {
        "id": "GMrBU-JfHHkv"
      },
      "execution_count": null,
      "outputs": []
    },
    {
      "cell_type": "code",
      "source": [
        "%%R\n",
        "# double check they match\n",
        "all(dd$species %in% tree$tip.label)\n"
      ],
      "metadata": {
        "colab": {
          "base_uri": "https://localhost:8080/"
        },
        "id": "QB2d6qozHMzi",
        "outputId": "2e1f2fd2-733f-4510-9b94-eae250454ac2"
      },
      "execution_count": null,
      "outputs": [
        {
          "output_type": "stream",
          "name": "stdout",
          "text": [
            "[1] TRUE\n"
          ]
        }
      ]
    },
    {
      "cell_type": "code",
      "source": [
        "%%R\n",
        "all(tree$tip.label %in% dd$species)"
      ],
      "metadata": {
        "colab": {
          "base_uri": "https://localhost:8080/"
        },
        "id": "p_IDZmW_MfQH",
        "outputId": "d0fa8efc-ab21-4b95-f827-64330b588a23"
      },
      "execution_count": null,
      "outputs": [
        {
          "output_type": "stream",
          "name": "stdout",
          "text": [
            "[1] TRUE\n"
          ]
        }
      ]
    },
    {
      "cell_type": "code",
      "source": [
        "%%R\n",
        "plot(tree)"
      ],
      "metadata": {
        "colab": {
          "base_uri": "https://localhost:8080/",
          "height": 497
        },
        "id": "0UhvVdFTMeMJ",
        "outputId": "cd083b1b-1d29-46ff-818a-28f3e6bd196c"
      },
      "execution_count": null,
      "outputs": [
        {
          "output_type": "display_data",
          "data": {
            "image/png": "[encoded data removed]",
            "text/plain": [
              "<IPython.core.display.Image object>"
            ]
          },
          "metadata": {}
        }
      ]
    },
    {
      "cell_type": "code",
      "source": [
        "%%R\n",
        "Ntip(tree)"
      ],
      "metadata": {
        "colab": {
          "base_uri": "https://localhost:8080/"
        },
        "id": "4Vy7TKCHMjM2",
        "outputId": "b2dbcf8a-2dc8-4b84-dc4e-3ff2241408e7"
      },
      "execution_count": null,
      "outputs": [
        {
          "output_type": "stream",
          "name": "stdout",
          "text": [
            "[1] 69\n"
          ]
        }
      ]
    },
    {
      "cell_type": "code",
      "source": [
        "%%R\n",
        "colnames(dd)"
      ],
      "metadata": {
        "colab": {
          "base_uri": "https://localhost:8080/"
        },
        "id": "mdleNGGVMlf1",
        "outputId": "b5986473-0c2c-47b0-e60e-bb309399649f"
      },
      "execution_count": null,
      "outputs": [
        {
          "output_type": "stream",
          "name": "stdout",
          "text": [
            " [1] \"species\"             \"X.\"                  \"X..\"                \n",
            " [4] \"WA\"                  \"Age\"                 \"Ploidy\"             \n",
            " [7] \"log.length\"          \"log.area\"            \"log.turn\"           \n",
            "[10] \"log.netd\"            \"log.spec\"            \"ORDER\"              \n",
            "[13] \"species.1\"           \"Rare..Yes.No.\"       \"EPBC\"               \n",
            "[16] \"WA.1\"                \"January\"             \"February\"           \n",
            "[19] \"March\"               \"April\"               \"May\"                \n",
            "[22] \"June\"                \"July\"                \"August\"             \n",
            "[25] \"September\"           \"October\"             \"November\"           \n",
            "[28] \"December\"            \"genus\"               \"Sum.of.Months\"      \n",
            "[31] \"bio15\"               \"bio12\"               \"bio7\"               \n",
            "[34] \"bio4\"                \"AGE..Ma.\"            \"ploidy\"             \n",
            "[37] \"Length..km.\"         \"Area..km2.\"          \"speciation\"         \n",
            "[40] \"Cluster\"             \"Category_Sum_Months\"\n"
          ]
        }
      ]
    },
    {
      "cell_type": "code",
      "source": [
        "%%R\n",
        "print(dd$WA.1)"
      ],
      "metadata": {
        "colab": {
          "base_uri": "https://localhost:8080/"
        },
        "id": "5G3-D3vgM1-a",
        "outputId": "580f460e-e4b3-429b-a53f-e95a8a47f4bd"
      },
      "execution_count": null,
      "outputs": [
        {
          "output_type": "stream",
          "name": "stdout",
          "text": [
            " [1] 0 0 0 0 0 0 4 0 0 4 0 0 0 0 0 0 0 0 0 0 0 0 0 0 0 0 3 1 0 0 0 0 0 0 0 3 2 0\n",
            "[39] 0 0 0 0 0 0 0 0 0 0 0 3 3 3 2 2 1 0 0 0 0 0 0 0 0 2 0 0 0 2 2\n"
          ]
        }
      ]
    },
    {
      "cell_type": "code",
      "source": [
        "%%R\n",
        "dd <- dd[match(tree$tip.label, dd$species), ]"
      ],
      "metadata": {
        "id": "LLkK7LVV1AsG"
      },
      "execution_count": null,
      "outputs": []
    },
    {
      "cell_type": "code",
      "source": [
        "%%R\n",
        "y <- dd$Sum.of.Months\n",
        "x <- dd$WA.1\n",
        "\n",
        "result <- phylANOVA(tree, x, y, nsim=1000, posthoc=TRUE, p.adj=\"holm\")\n",
        "result"
      ],
      "metadata": {
        "colab": {
          "base_uri": "https://localhost:8080/"
        },
        "id": "ydZZzB5u1Kqa",
        "outputId": "2cc67e1d-3e68-4ac9-c2d8-a634bc41fbd1"
      },
      "execution_count": null,
      "outputs": [
        {
          "output_type": "stream",
          "name": "stdout",
          "text": [
            "Warning: no labels for x. Assuming order of tree$tip.label.\n",
            "\n",
            "Warning: no labels for y. Assuming order of tree$tip.label.\n",
            "\n",
            "ANOVA table: Phylogenetic ANOVA\n",
            "\n",
            "Response: y\n",
            "            Sum Sq   Mean Sq  F value Pr(>F)\n",
            "x         77.40145 19.350362 4.016073  0.006\n",
            "Residual 308.36667  4.818229                \n",
            "\n",
            "P-value based on simulation.\n",
            "---------\n",
            "\n",
            "Pairwise posthoc test using method = \"holm\"\n",
            "\n",
            "Pairwise t-values:\n",
            "          0         1        2         3         4\n",
            "0  0.000000  0.913850 3.293583  1.797537 -1.300479\n",
            "1 -0.913850  0.000000 0.929931  0.217805 -1.594499\n",
            "2 -3.293583 -0.929931 0.000000 -0.952978 -2.882786\n",
            "3 -1.797537 -0.217805 0.952978  0.000000 -2.123596\n",
            "4  1.300479  1.594499 2.882786  2.123596  0.000000\n",
            "\n",
            "Pairwise corrected P-values:\n",
            "      0    1     2     3     4\n",
            "0 1.000 1.00 0.010 0.441 1.000\n",
            "1 1.000 1.00 1.000 1.000 0.840\n",
            "2 0.010 1.00 1.000 1.000 0.126\n",
            "3 0.441 1.00 1.000 1.000 0.200\n",
            "4 1.000 0.84 0.126 0.200 1.000\n",
            "---------\n",
            "\n"
          ]
        }
      ]
    },
    {
      "cell_type": "markdown",
      "source": [
        "SUM OF MONTHS VS WA FOR 87T WITH PREDICTED FLOWERING TIME"
      ],
      "metadata": {
        "id": "zmdkjY0jT3nx"
      }
    },
    {
      "cell_type": "code",
      "source": [
        "%%R\n",
        "tree1 <-read.tree(\"/content/drive/MyDrive/PLANT RESEARCH/datasets/Copy of Rham.87t.WAonly.tree\")\n",
        "print(list(tree1$tip.label))\n",
        "print(tree1)\n"
      ],
      "metadata": {
        "colab": {
          "base_uri": "https://localhost:8080/"
        },
        "id": "a01DeYr_T8x5",
        "outputId": "0817015b-0ff6-4dc5-f9a9-78c9abfb3eec"
      },
      "execution_count": null,
      "outputs": [
        {
          "output_type": "stream",
          "name": "stdout",
          "text": [
            "[[1]]\n",
            " [1] \"Trymalium_angustifolium\"    \"Trymalium_urceolare\"       \n",
            " [3] \"Trymalium_ledifolium\"       \"Trymalium_monospermum\"     \n",
            " [5] \"Trymalium_litorale\"         \"Trymalium_odoratissimum\"   \n",
            " [7] \"Trymalium_spatulatum\"       \"Trymalium_daphnifolium\"    \n",
            " [9] \"Trymalium_myrtillus\"        \"Trymalium_elachophyllum\"   \n",
            "[11] \"Polianthion_wichurae\"       \"Polianthion_biloculare\"    \n",
            "[13] \"Polianthion_collinum\"       \"Stenanthemum_notiale\"      \n",
            "[15] \"Stenanthemum_radiatum\"      \"Stenanthemum_intricatum\"   \n",
            "[17] \"Stenanthemum_divaricatum\"   \"Stenanthemum_nanum\"        \n",
            "[19] \"Stenanthemum_coronatum\"     \"Stenanthemum_limitatum\"    \n",
            "[21] \"Stenanthemum_emarginatum\"   \"Stenanthemum_tridentatum\"  \n",
            "[23] \"Stenanthemum_reissekii\"     \"Stenanthemum_complicatum\"  \n",
            "[25] \"Stenanthemum_pumilum\"       \"Stenanthemum_humile\"       \n",
            "[27] \"Stenanthemum_sublineare\"    \"Stenanthemum_yorkense\"     \n",
            "[29] \"Stenanthemum_mediale\"       \"Stenanthemum_petraeum\"     \n",
            "[31] \"Stenanthemum_pomaderroides\" \"Stenanthemum_bremerense\"   \n",
            "[33] \"Stenanthemum_stipulosum\"    \"Stenanthemum_liberum\"      \n",
            "[35] \"Stenanthemum_newbeyi\"       \"Stenanthemum_patens\"       \n",
            "[37] \"Cryptandra_pungens\"         \"Cryptandra_inconspicua\"    \n",
            "[39] \"Cryptandra_mutila\"          \"Cryptandra_glabriflora\"    \n",
            "[41] \"Cryptandra_spyridioides\"    \"Cryptandra_arbutiflora\"    \n",
            "[43] \"Cryptandra_pendula\"         \"Cryptandra_stellulata\"     \n",
            "[45] \"Cryptandra_multispina\"      \"Cryptandra_congesta\"       \n",
            "[47] \"Cryptandra_scoparia\"        \"Cryptandra_nutans\"         \n",
            "[49] \"Cryptandra_distigma\"        \"Cryptandra_monticola\"      \n",
            "[51] \"Cryptandra_apetala\"         \"Cryptandra_recurva\"        \n",
            "[53] \"Cryptandra_nola\"            \"Cryptandra_dielsii\"        \n",
            "[55] \"Cryptandra_intonsa\"         \"Cryptandra_leucopogon\"     \n",
            "[57] \"Cryptandra_intratropica\"    \"Cryptandra_connata\"        \n",
            "[59] \"Cryptandra_imbricata\"       \"Cryptandra_myriantha\"      \n",
            "[61] \"Cryptandra_micrantha\"       \"Cryptandra_wilsonii\"       \n",
            "[63] \"Cryptandra_minutifolia\"     \"Cryptandra_beverleyensis\"  \n",
            "[65] \"Cryptandra_crispula\"        \"Cryptandra_aridicola\"      \n",
            "[67] \"Cryptandra_exserta\"         \"Blackallia_nudiflora\"      \n",
            "[69] \"Papistylus_grandiflorus\"    \"Serichonus_gracilipes\"     \n",
            "[71] \"Spyridium_subochreatum\"     \"Spyridium_oligocephalum\"   \n",
            "[73] \"Spyridium_polycephalum\"     \"Spyridium_cordatum\"        \n",
            "[75] \"Spyridium_Jerdacuttup\"      \"Spyridium_microcephalum\"   \n",
            "[77] \"Spyridium_minutum\"          \"Spyridium_mucronatum\"      \n",
            "[79] \"Spyridium_globulosum\"       \"Spyridium_majoranifolium\"  \n",
            "[81] \"Spyridium_glaucum\"          \"Siegfriedia_darwinioides\"  \n",
            "[83] \"Pomaderris_brevifolia\"      \"Pomaderris_myrtilloides\"   \n",
            "[85] \"Pomaderris_forrestiana\"     \"Pomaderris_rotundifolia\"   \n",
            "[87] \"Pomaderris_paniculosa\"     \n",
            "\n",
            "\n",
            "Phylogenetic tree with 87 tips and 84 internal nodes.\n",
            "\n",
            "Tip labels:\n",
            "  Trymalium_angustifolium, Trymalium_urceolare, Trymalium_ledifolium, Trymalium_monospermum, Trymalium_litorale, Trymalium_odoratissimum, ...\n",
            "\n",
            "Rooted; includes branch length(s).\n"
          ]
        }
      ]
    },
    {
      "cell_type": "code",
      "source": [
        "%%R\n",
        "tip_label_list1 <- as.list(tree1$tip.label)\n",
        "print(tip_label_list1)"
      ],
      "metadata": {
        "colab": {
          "base_uri": "https://localhost:8080/"
        },
        "id": "NQa872egUBgK",
        "outputId": "c919244d-635c-40c5-e331-ad0702081ff3"
      },
      "execution_count": null,
      "outputs": [
        {
          "output_type": "stream",
          "name": "stdout",
          "text": [
            "[[1]]\n",
            "[1] \"Trymalium_angustifolium\"\n",
            "\n",
            "[[2]]\n",
            "[1] \"Trymalium_urceolare\"\n",
            "\n",
            "[[3]]\n",
            "[1] \"Trymalium_ledifolium\"\n",
            "\n",
            "[[4]]\n",
            "[1] \"Trymalium_monospermum\"\n",
            "\n",
            "[[5]]\n",
            "[1] \"Trymalium_litorale\"\n",
            "\n",
            "[[6]]\n",
            "[1] \"Trymalium_odoratissimum\"\n",
            "\n",
            "[[7]]\n",
            "[1] \"Trymalium_spatulatum\"\n",
            "\n",
            "[[8]]\n",
            "[1] \"Trymalium_daphnifolium\"\n",
            "\n",
            "[[9]]\n",
            "[1] \"Trymalium_myrtillus\"\n",
            "\n",
            "[[10]]\n",
            "[1] \"Trymalium_elachophyllum\"\n",
            "\n",
            "[[11]]\n",
            "[1] \"Polianthion_wichurae\"\n",
            "\n",
            "[[12]]\n",
            "[1] \"Polianthion_biloculare\"\n",
            "\n",
            "[[13]]\n",
            "[1] \"Polianthion_collinum\"\n",
            "\n",
            "[[14]]\n",
            "[1] \"Stenanthemum_notiale\"\n",
            "\n",
            "[[15]]\n",
            "[1] \"Stenanthemum_radiatum\"\n",
            "\n",
            "[[16]]\n",
            "[1] \"Stenanthemum_intricatum\"\n",
            "\n",
            "[[17]]\n",
            "[1] \"Stenanthemum_divaricatum\"\n",
            "\n",
            "[[18]]\n",
            "[1] \"Stenanthemum_nanum\"\n",
            "\n",
            "[[19]]\n",
            "[1] \"Stenanthemum_coronatum\"\n",
            "\n",
            "[[20]]\n",
            "[1] \"Stenanthemum_limitatum\"\n",
            "\n",
            "[[21]]\n",
            "[1] \"Stenanthemum_emarginatum\"\n",
            "\n",
            "[[22]]\n",
            "[1] \"Stenanthemum_tridentatum\"\n",
            "\n",
            "[[23]]\n",
            "[1] \"Stenanthemum_reissekii\"\n",
            "\n",
            "[[24]]\n",
            "[1] \"Stenanthemum_complicatum\"\n",
            "\n",
            "[[25]]\n",
            "[1] \"Stenanthemum_pumilum\"\n",
            "\n",
            "[[26]]\n",
            "[1] \"Stenanthemum_humile\"\n",
            "\n",
            "[[27]]\n",
            "[1] \"Stenanthemum_sublineare\"\n",
            "\n",
            "[[28]]\n",
            "[1] \"Stenanthemum_yorkense\"\n",
            "\n",
            "[[29]]\n",
            "[1] \"Stenanthemum_mediale\"\n",
            "\n",
            "[[30]]\n",
            "[1] \"Stenanthemum_petraeum\"\n",
            "\n",
            "[[31]]\n",
            "[1] \"Stenanthemum_pomaderroides\"\n",
            "\n",
            "[[32]]\n",
            "[1] \"Stenanthemum_bremerense\"\n",
            "\n",
            "[[33]]\n",
            "[1] \"Stenanthemum_stipulosum\"\n",
            "\n",
            "[[34]]\n",
            "[1] \"Stenanthemum_liberum\"\n",
            "\n",
            "[[35]]\n",
            "[1] \"Stenanthemum_newbeyi\"\n",
            "\n",
            "[[36]]\n",
            "[1] \"Stenanthemum_patens\"\n",
            "\n",
            "[[37]]\n",
            "[1] \"Cryptandra_pungens\"\n",
            "\n",
            "[[38]]\n",
            "[1] \"Cryptandra_inconspicua\"\n",
            "\n",
            "[[39]]\n",
            "[1] \"Cryptandra_mutila\"\n",
            "\n",
            "[[40]]\n",
            "[1] \"Cryptandra_glabriflora\"\n",
            "\n",
            "[[41]]\n",
            "[1] \"Cryptandra_spyridioides\"\n",
            "\n",
            "[[42]]\n",
            "[1] \"Cryptandra_arbutiflora\"\n",
            "\n",
            "[[43]]\n",
            "[1] \"Cryptandra_pendula\"\n",
            "\n",
            "[[44]]\n",
            "[1] \"Cryptandra_stellulata\"\n",
            "\n",
            "[[45]]\n",
            "[1] \"Cryptandra_multispina\"\n",
            "\n",
            "[[46]]\n",
            "[1] \"Cryptandra_congesta\"\n",
            "\n",
            "[[47]]\n",
            "[1] \"Cryptandra_scoparia\"\n",
            "\n",
            "[[48]]\n",
            "[1] \"Cryptandra_nutans\"\n",
            "\n",
            "[[49]]\n",
            "[1] \"Cryptandra_distigma\"\n",
            "\n",
            "[[50]]\n",
            "[1] \"Cryptandra_monticola\"\n",
            "\n",
            "[[51]]\n",
            "[1] \"Cryptandra_apetala\"\n",
            "\n",
            "[[52]]\n",
            "[1] \"Cryptandra_recurva\"\n",
            "\n",
            "[[53]]\n",
            "[1] \"Cryptandra_nola\"\n",
            "\n",
            "[[54]]\n",
            "[1] \"Cryptandra_dielsii\"\n",
            "\n",
            "[[55]]\n",
            "[1] \"Cryptandra_intonsa\"\n",
            "\n",
            "[[56]]\n",
            "[1] \"Cryptandra_leucopogon\"\n",
            "\n",
            "[[57]]\n",
            "[1] \"Cryptandra_intratropica\"\n",
            "\n",
            "[[58]]\n",
            "[1] \"Cryptandra_connata\"\n",
            "\n",
            "[[59]]\n",
            "[1] \"Cryptandra_imbricata\"\n",
            "\n",
            "[[60]]\n",
            "[1] \"Cryptandra_myriantha\"\n",
            "\n",
            "[[61]]\n",
            "[1] \"Cryptandra_micrantha\"\n",
            "\n",
            "[[62]]\n",
            "[1] \"Cryptandra_wilsonii\"\n",
            "\n",
            "[[63]]\n",
            "[1] \"Cryptandra_minutifolia\"\n",
            "\n",
            "[[64]]\n",
            "[1] \"Cryptandra_beverleyensis\"\n",
            "\n",
            "[[65]]\n",
            "[1] \"Cryptandra_crispula\"\n",
            "\n",
            "[[66]]\n",
            "[1] \"Cryptandra_aridicola\"\n",
            "\n",
            "[[67]]\n",
            "[1] \"Cryptandra_exserta\"\n",
            "\n",
            "[[68]]\n",
            "[1] \"Blackallia_nudiflora\"\n",
            "\n",
            "[[69]]\n",
            "[1] \"Papistylus_grandiflorus\"\n",
            "\n",
            "[[70]]\n",
            "[1] \"Serichonus_gracilipes\"\n",
            "\n",
            "[[71]]\n",
            "[1] \"Spyridium_subochreatum\"\n",
            "\n",
            "[[72]]\n",
            "[1] \"Spyridium_oligocephalum\"\n",
            "\n",
            "[[73]]\n",
            "[1] \"Spyridium_polycephalum\"\n",
            "\n",
            "[[74]]\n",
            "[1] \"Spyridium_cordatum\"\n",
            "\n",
            "[[75]]\n",
            "[1] \"Spyridium_Jerdacuttup\"\n",
            "\n",
            "[[76]]\n",
            "[1] \"Spyridium_microcephalum\"\n",
            "\n",
            "[[77]]\n",
            "[1] \"Spyridium_minutum\"\n",
            "\n",
            "[[78]]\n",
            "[1] \"Spyridium_mucronatum\"\n",
            "\n",
            "[[79]]\n",
            "[1] \"Spyridium_globulosum\"\n",
            "\n",
            "[[80]]\n",
            "[1] \"Spyridium_majoranifolium\"\n",
            "\n",
            "[[81]]\n",
            "[1] \"Spyridium_glaucum\"\n",
            "\n",
            "[[82]]\n",
            "[1] \"Siegfriedia_darwinioides\"\n",
            "\n",
            "[[83]]\n",
            "[1] \"Pomaderris_brevifolia\"\n",
            "\n",
            "[[84]]\n",
            "[1] \"Pomaderris_myrtilloides\"\n",
            "\n",
            "[[85]]\n",
            "[1] \"Pomaderris_forrestiana\"\n",
            "\n",
            "[[86]]\n",
            "[1] \"Pomaderris_rotundifolia\"\n",
            "\n",
            "[[87]]\n",
            "[1] \"Pomaderris_paniculosa\"\n",
            "\n"
          ]
        }
      ]
    },
    {
      "cell_type": "code",
      "source": [
        "%%R\n",
        "dd1 <- read.csv(\"/content/drive/MyDrive/PLANT RESEARCH/datasets/87t_with_predicted_flowering_times.csv\")\n",
        "colnames(dd)\n"
      ],
      "metadata": {
        "colab": {
          "base_uri": "https://localhost:8080/"
        },
        "id": "zcGsnb3VSIFa",
        "outputId": "11054ec0-e3fb-4959-bb58-c4875fdf4654"
      },
      "execution_count": null,
      "outputs": [
        {
          "output_type": "stream",
          "name": "stdout",
          "text": [
            " [1] \"species\"             \"X.\"                  \"X..\"                \n",
            " [4] \"WA\"                  \"Age\"                 \"Ploidy\"             \n",
            " [7] \"log.length\"          \"log.area\"            \"log.turn\"           \n",
            "[10] \"log.netd\"            \"log.spec\"            \"ORDER\"              \n",
            "[13] \"species.1\"           \"Rare..Yes.No.\"       \"EPBC\"               \n",
            "[16] \"WA.1\"                \"January\"             \"February\"           \n",
            "[19] \"March\"               \"April\"               \"May\"                \n",
            "[22] \"June\"                \"July\"                \"August\"             \n",
            "[25] \"September\"           \"October\"             \"November\"           \n",
            "[28] \"December\"            \"genus\"               \"Sum.of.Months\"      \n",
            "[31] \"bio15\"               \"bio12\"               \"bio7\"               \n",
            "[34] \"bio4\"                \"AGE..Ma.\"            \"ploidy\"             \n",
            "[37] \"Length..km.\"         \"Area..km2.\"          \"speciation\"         \n",
            "[40] \"Cluster\"             \"Category_Sum_Months\"\n"
          ]
        }
      ]
    },
    {
      "cell_type": "code",
      "source": [
        "\n",
        "%%R\n",
        "# which are mismatched?\n",
        "tree_not_dd1 <- tree1$tip.label[which(!tree1$tip.label %in% dd1$species)]\n",
        "dd_not_tree1 <- dd1$species[which(!dd1$species %in% tree1$tip.label)]"
      ],
      "metadata": {
        "id": "_s5UU0cFXTPd"
      },
      "execution_count": null,
      "outputs": []
    },
    {
      "cell_type": "code",
      "source": [
        "%%R\n",
        "# drop mismatched\n",
        "dd1 <- dd1[which(!dd1$species %in% dd_not_tree1 ),]\n",
        "tree1 <- drop.tip(tree1, tree_not_dd1)\n"
      ],
      "metadata": {
        "id": "-irsQ51SXTRd"
      },
      "execution_count": null,
      "outputs": []
    },
    {
      "cell_type": "code",
      "source": [
        "%%R\n",
        "# double check they match\n",
        "all(dd1$species %in% tree1$tip.label)"
      ],
      "metadata": {
        "colab": {
          "base_uri": "https://localhost:8080/"
        },
        "id": "jVspMWh1XTTp",
        "outputId": "ebd29330-1dee-4770-d294-4cd8bf45264e"
      },
      "execution_count": null,
      "outputs": [
        {
          "output_type": "stream",
          "name": "stdout",
          "text": [
            "[1] TRUE\n"
          ]
        }
      ]
    },
    {
      "cell_type": "code",
      "source": [
        "%%R\n",
        "all(tree1$tip.label %in% dd1$species)\n"
      ],
      "metadata": {
        "colab": {
          "base_uri": "https://localhost:8080/"
        },
        "id": "ajwAD0dkZr9u",
        "outputId": "8903c573-d851-4024-e839-76d71cd4c422"
      },
      "execution_count": null,
      "outputs": [
        {
          "output_type": "stream",
          "name": "stdout",
          "text": [
            "[1] TRUE\n"
          ]
        }
      ]
    },
    {
      "cell_type": "code",
      "source": [
        "%%R\n",
        "plot(tree1)\n"
      ],
      "metadata": {
        "colab": {
          "base_uri": "https://localhost:8080/",
          "height": 497
        },
        "id": "GWn--PE2cmJy",
        "outputId": "1f8293bd-58db-4bdf-e6b2-8026eb8e9636"
      },
      "execution_count": null,
      "outputs": [
        {
          "output_type": "display_data",
          "data": {
            "image/png": "[encoded data removed]",
            "text/plain": [
              "<IPython.core.display.Image object>"
            ]
          },
          "metadata": {}
        }
      ]
    },
    {
      "cell_type": "code",
      "source": [
        "%%R\n",
        "Ntip(tree1)\n"
      ],
      "metadata": {
        "colab": {
          "base_uri": "https://localhost:8080/"
        },
        "id": "Nz3qhz1qcmMD",
        "outputId": "ddf6d378-0c8e-41a3-8720-991956f79aab"
      },
      "execution_count": null,
      "outputs": [
        {
          "output_type": "stream",
          "name": "stdout",
          "text": [
            "[1] 87\n"
          ]
        }
      ]
    },
    {
      "cell_type": "code",
      "source": [
        "%%R\n",
        "colnames(dd1)"
      ],
      "metadata": {
        "colab": {
          "base_uri": "https://localhost:8080/"
        },
        "id": "wF1DTeaKcmOG",
        "outputId": "f4354c2a-3dad-4744-f0e7-59f7899fcf96"
      },
      "execution_count": null,
      "outputs": [
        {
          "output_type": "stream",
          "name": "stdout",
          "text": [
            " [1] \"species\"       \"WA\"            \"Age\"           \"Ploidy\"       \n",
            " [5] \"log.length\"    \"log.area\"      \"log.turn\"      \"log.netd\"     \n",
            " [9] \"log.spec\"      \"species.1\"     \"Rare..Yes.No.\" \"EPBC\"         \n",
            "[13] \"WA.Ranking\"    \"January\"       \"February\"      \"March\"        \n",
            "[17] \"April\"         \"May\"           \"June\"          \"July\"         \n",
            "[21] \"August\"        \"September\"     \"October\"       \"November\"     \n",
            "[25] \"December\"      \"log.b19\"       \"log.b18\"       \"log.b17\"      \n",
            "[29] \"log.b16\"       \"log.b15\"       \"log.b14\"       \"log.b13\"      \n",
            "[33] \"log.b12\"       \"log.b11\"       \"log.b10\"       \"log.b9\"       \n",
            "[37] \"log.b8\"        \"log.b7\"        \"log.b6\"        \"log.b5\"       \n",
            "[41] \"log.b4\"        \"log.b3\"        \"log.b2\"        \"log.b1\"       \n"
          ]
        }
      ]
    },
    {
      "cell_type": "code",
      "source": [
        "%%R\n",
        "dd1 <- dd1[match(tree1$tip.label, dd1$species), ]"
      ],
      "metadata": {
        "id": "ntWNLtvs2gON"
      },
      "execution_count": null,
      "outputs": []
    },
    {
      "cell_type": "code",
      "source": [
        "%%R\n",
        "dd1$'Sum of months' <- rowSums(dd1[, c(\"January\", \"February\", \"March\", \"April\", \"May\", \"June\", \"July\", \"August\", \"September\", \"October\", \"November\", \"December\")])\n"
      ],
      "metadata": {
        "id": "B0OCoGILc_ZY"
      },
      "execution_count": null,
      "outputs": []
    },
    {
      "cell_type": "code",
      "source": [
        "%%R\n",
        "dd1[['Sum of months']]"
      ],
      "metadata": {
        "colab": {
          "base_uri": "https://localhost:8080/"
        },
        "id": "G0pCx89FdAJW",
        "outputId": "b555939b-3846-4ab2-b310-b1f1243f718f"
      },
      "execution_count": null,
      "outputs": [
        {
          "output_type": "stream",
          "name": "stdout",
          "text": [
            " [1]  6  3  6  1  3  5  5  5  4  4  4  8  3 12  1  9  4  2  2  2  4  4  3  6  3\n",
            "[26]  4  3  0  5  7  7  2 12  0  4  7  7  1  2  4  4  7  2  3  7  7  3  6  5  5\n",
            "[51]  3  6  3  3  4  4  4  4  3  6  5  4  6  2  5  3  1  1  2  2  3  5  8 10  8\n",
            "[76] 10  6  7  6  8  3  7  9  7  5  5  5\n"
          ]
        }
      ]
    },
    {
      "cell_type": "code",
      "source": [
        "%%R\n",
        "colnames(dd1)"
      ],
      "metadata": {
        "colab": {
          "base_uri": "https://localhost:8080/"
        },
        "id": "ufGORo3WS2eH",
        "outputId": "14bda142-b894-4e56-9df0-522594a4ac75"
      },
      "execution_count": null,
      "outputs": [
        {
          "output_type": "stream",
          "name": "stdout",
          "text": [
            " [1] \"species\"       \"WA\"            \"Age\"           \"Ploidy\"       \n",
            " [5] \"log.length\"    \"log.area\"      \"log.turn\"      \"log.netd\"     \n",
            " [9] \"log.spec\"      \"species.1\"     \"Rare..Yes.No.\" \"EPBC\"         \n",
            "[13] \"WA.Ranking\"    \"January\"       \"February\"      \"March\"        \n",
            "[17] \"April\"         \"May\"           \"June\"          \"July\"         \n",
            "[21] \"August\"        \"September\"     \"October\"       \"November\"     \n",
            "[25] \"December\"      \"log.b19\"       \"log.b18\"       \"log.b17\"      \n",
            "[29] \"log.b16\"       \"log.b15\"       \"log.b14\"       \"log.b13\"      \n",
            "[33] \"log.b12\"       \"log.b11\"       \"log.b10\"       \"log.b9\"       \n",
            "[37] \"log.b8\"        \"log.b7\"        \"log.b6\"        \"log.b5\"       \n",
            "[41] \"log.b4\"        \"log.b3\"        \"log.b2\"        \"log.b1\"       \n"
          ]
        }
      ]
    },
    {
      "cell_type": "code",
      "source": [
        "%%R\n",
        "y <- dd1[['Sum of months']]\n",
        "x <- dd1$WA.Ranking\n",
        "\n",
        "result <- phylANOVA(tree, x, y, nsim=1000, posthoc=TRUE, p.adj=\"holm\")\n",
        "result"
      ],
      "metadata": {
        "id": "2mOAgd7_2zmD",
        "outputId": "95ca8002-1648-4309-aef2-d558d81d6111",
        "colab": {
          "base_uri": "https://localhost:8080/"
        }
      },
      "execution_count": null,
      "outputs": [
        {
          "output_type": "stream",
          "name": "stdout",
          "text": [
            "Warning: no labels for x. Assuming order of tree$tip.label.\n",
            "\n",
            "Warning: no labels for y. Assuming order of tree$tip.label.\n",
            "\n",
            "ANOVA table: Phylogenetic ANOVA\n",
            "\n",
            "Response: y\n",
            "            Sum Sq   Mean Sq F value Pr(>F)\n",
            "x         97.02001 24.255003 5.36634  0.001\n",
            "Residual 289.26984  4.519841               \n",
            "\n",
            "P-value based on simulation.\n",
            "---------\n",
            "\n",
            "Pairwise posthoc test using method = \"holm\"\n",
            "\n",
            "Pairwise t-values:\n",
            "          0         1        2         3         4\n",
            "0  0.000000  2.802770 3.462246  2.423810 -0.525125\n",
            "1 -2.802770  0.000000 0.502845 -0.503718 -2.109804\n",
            "2 -3.462246 -0.502845 0.000000 -1.037065 -2.499306\n",
            "3 -2.423810  0.503718 1.037065  0.000000 -1.803080\n",
            "4  0.525125  2.109804 2.499306  1.803080  0.000000\n",
            "\n",
            "Pairwise corrected P-values:\n",
            "      0     1     2     3     4\n",
            "0 1.000 0.072 0.010 0.126 1.000\n",
            "1 0.072 1.000 1.000 1.000 0.126\n",
            "2 0.010 1.000 1.000 0.904 0.072\n",
            "3 0.126 1.000 0.904 1.000 0.225\n",
            "4 1.000 0.126 0.072 0.225 1.000\n",
            "---------\n",
            "\n"
          ]
        }
      ]
    },
    {
      "cell_type": "code",
      "source": [
        "%%R\n",
        "head(dd1,5)"
      ],
      "metadata": {
        "colab": {
          "base_uri": "https://localhost:8080/"
        },
        "id": "2W4CAP-US66O",
        "outputId": "a310da3c-7879-4494-b301-41177bf7d2b8"
      },
      "execution_count": null,
      "outputs": [
        {
          "output_type": "stream",
          "name": "stdout",
          "text": [
            "                   species WA   Age Ploidy log.length log.area   log.turn\n",
            "1     Blackallia_nudiflora  1 13.04      2   2.637490 4.615813 -1.0854667\n",
            "2       Cryptandra_apetala  1 10.08      2   2.904174 5.018804 -1.0852384\n",
            "3   Cryptandra_arbutiflora  1  4.20      3   2.948902 5.157170 -1.0530070\n",
            "4     Cryptandra_aridicola  1  4.25      2   2.795185 5.218620 -1.0476917\n",
            "5 Cryptandra_beverleyensis  1  3.07      3   2.392697 4.179236 -0.9913877\n",
            "    log.netd   log.spec                species.1 Rare..Yes.No. EPBC WA.Ranking\n",
            "1 -1.0894710 -1.0874642     Blackallia nudiflora             1    0          3\n",
            "2 -1.0892424 -1.0872358       Cryptandra apetala             0    0          0\n",
            "3 -1.0570650 -1.0550313   Cryptandra arbutiflora             0    0          0\n",
            "4 -1.0517772 -1.0497297     Cryptandra aridicola             0    0          0\n",
            "5 -0.9956413 -0.9935093 Cryptandra beverleyensis             1    0          3\n",
            "  January February March April May June July August September October November\n",
            "1       0        0     0     0   0    0    0      1         0       0        0\n",
            "2       0        0     0     0   0    0    0      1         1       1        0\n",
            "3       0        0     0     0   1    1    1      1         1       1        1\n",
            "4       0        0     0     0   0    0    1      1         1       0        0\n",
            "5       0        0     0     0   0    0    0      1         1       0        0\n",
            "  December  log.b19  log.b18  log.b17  log.b16  log.b15  log.b14  log.b13\n",
            "1        0 2.354108 1.574031 1.301030 2.366423 1.922778 0.544068 1.924279\n",
            "2        0 2.168792 1.736397 1.602060 2.183270 1.702993 1.000000 1.736397\n",
            "3        0 2.588832 1.795880 1.707570 2.588832 1.844523 1.176091 2.150756\n",
            "4        0 1.829304 1.832509 1.648360 1.939519 1.504527 1.113943 1.574031\n",
            "5        0 2.265996 1.628389 1.612784 2.269513 1.758163 1.021189 1.826075\n",
            "   log.b12  log.b11  log.b10   log.b9   log.b8   log.b7    log.b6   log.b5\n",
            "1 2.621176 1.169037 1.422563 1.385159 1.206376 1.419129 0.9420081 1.543447\n",
            "2 2.542825 1.099796 1.389757 1.350894 1.120300 1.442480 0.7923917 1.526985\n",
            "3 2.890980 1.106644 1.353307 1.337126 1.127105 1.341435 0.8721563 1.472025\n",
            "4 2.436163 1.072801 1.393721 1.254669 1.295933 1.457882 0.6901961 1.523746\n",
            "5 2.607991 1.059753 1.369834 1.365488 1.071268 1.428135 0.7558749 1.512551\n",
            "    log.b4   log.b3   log.b2   log.b1\n",
            "1 2.679111 1.713628 1.133539 1.312371\n",
            "2 2.722043 1.692828 1.140010 1.267563\n",
            "3 2.606335 1.705590 1.066015 1.247155\n",
            "4 2.714858 1.699004 1.146516 1.272422\n",
            "5 2.700764 1.707546 1.141319 1.236894\n"
          ]
        }
      ]
    },
    {
      "cell_type": "code",
      "source": [
        "%%R\n",
        "print(head(dd1,3))"
      ],
      "metadata": {
        "colab": {
          "base_uri": "https://localhost:8080/"
        },
        "id": "oIcSw94ETqtn",
        "outputId": "1cc6106b-a8ff-495e-ccc7-910bd86e86a2"
      },
      "execution_count": null,
      "outputs": [
        {
          "output_type": "stream",
          "name": "stdout",
          "text": [
            "                 species WA   Age Ploidy log.length log.area  log.turn\n",
            "1   Blackallia_nudiflora  1 13.04      2   2.637490 4.615813 -1.085467\n",
            "2     Cryptandra_apetala  1 10.08      2   2.904174 5.018804 -1.085238\n",
            "3 Cryptandra_arbutiflora  1  4.20      3   2.948902 5.157170 -1.053007\n",
            "   log.netd  log.spec              species.1 Rare..Yes.No. EPBC WA.Ranking\n",
            "1 -1.089471 -1.087464   Blackallia nudiflora             1    0          3\n",
            "2 -1.089242 -1.087236     Cryptandra apetala             0    0          0\n",
            "3 -1.057065 -1.055031 Cryptandra arbutiflora             0    0          0\n",
            "  January February March April May June July August September October November\n",
            "1       0        0     0     0   0    0    0      1         0       0        0\n",
            "2       0        0     0     0   0    0    0      1         1       1        0\n",
            "3       0        0     0     0   1    1    1      1         1       1        1\n",
            "  December  log.b19  log.b18 log.b17  log.b16  log.b15  log.b14  log.b13\n",
            "1        0 2.354108 1.574031 1.30103 2.366423 1.922778 0.544068 1.924279\n",
            "2        0 2.168792 1.736397 1.60206 2.183270 1.702993 1.000000 1.736397\n",
            "3        0 2.588832 1.795880 1.70757 2.588832 1.844523 1.176091 2.150756\n",
            "   log.b12  log.b11  log.b10   log.b9   log.b8   log.b7    log.b6   log.b5\n",
            "1 2.621176 1.169037 1.422563 1.385159 1.206376 1.419129 0.9420081 1.543447\n",
            "2 2.542825 1.099796 1.389757 1.350894 1.120300 1.442480 0.7923917 1.526985\n",
            "3 2.890980 1.106644 1.353307 1.337126 1.127105 1.341435 0.8721563 1.472025\n",
            "    log.b4   log.b3   log.b2   log.b1 Sum of months\n",
            "1 2.679111 1.713628 1.133539 1.312371             1\n",
            "2 2.722043 1.692828 1.140010 1.267563             3\n",
            "3 2.606335 1.705590 1.066015 1.247155             7\n"
          ]
        }
      ]
    },
    {
      "cell_type": "code",
      "source": [],
      "metadata": {
        "id": "vewjUxAOTpKV"
      },
      "execution_count": null,
      "outputs": []
    }
  ]
}