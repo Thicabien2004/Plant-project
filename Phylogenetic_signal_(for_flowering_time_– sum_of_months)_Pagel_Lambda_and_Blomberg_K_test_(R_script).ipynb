{
  "nbformat": 4,
  "nbformat_minor": 0,
  "metadata": {
    "colab": {
      "provenance": [],
      "authorship_tag": "ABX9TyNaN3ZzDESTuQt0ZZYawVgs",
      "include_colab_link": true
    },
    "kernelspec": {
      "name": "python3",
      "display_name": "Python 3"
    },
    "language_info": {
      "name": "python"
    }
  },
  "cells": [
    {
      "cell_type": "markdown",
      "metadata": {
        "id": "view-in-github",
        "colab_type": "text"
      },
      "source": [
        "<a href=\"https://colab.research.google.com/github/Thicabien2004/Plant-project/blob/main/Phylogenetic_signal_(for_flowering_time_%E2%80%93%C2%A0sum_of_months)_Pagel_Lambda_and_Blomberg_K_test_(R_script).ipynb\" target=\"_parent\"><img src=\"https://colab.research.google.com/assets/colab-badge.svg\" alt=\"Open In Colab\"/></a>"
      ]
    },
    {
      "cell_type": "code",
      "execution_count": null,
      "metadata": {
        "id": "o3liqN7TnI3W"
      },
      "outputs": [],
      "source": [
        "%load_ext rpy2.ipython"
      ]
    },
    {
      "cell_type": "code",
      "source": [
        "from google.colab import drive\n",
        "drive.mount('/content/drive')"
      ],
      "metadata": {
        "id": "S5K8XyxKndoE",
        "colab": {
          "base_uri": "https://localhost:8080/"
        },
        "outputId": "d0773a6d-6295-4128-b618-02f4eac15cb3"
      },
      "execution_count": null,
      "outputs": [
        {
          "output_type": "stream",
          "name": "stdout",
          "text": [
            "Mounted at /content/drive\n"
          ]
        }
      ]
    },
    {
      "cell_type": "code",
      "source": [
        "%%R\n",
        "install.packages(\"phytools\")"
      ],
      "metadata": {
        "colab": {
          "base_uri": "https://localhost:8080/",
          "height": 486
        },
        "id": "WtgYB0RWr5G6",
        "outputId": "ec0965ec-d13a-4ee0-dd29-683bc442319c"
      },
      "execution_count": null,
      "outputs": [
        {
          "output_type": "display_data",
          "data": {
            "text/plain": [
              "Installing package into ‘/usr/local/lib/R/site-library’\n",
              "(as ‘lib’ is unspecified)\n",
              "also installing the dependencies ‘iterators’, ‘fastmatch’, ‘igraph’, ‘quadprog’, ‘ape’, ‘maps’, ‘clusterGeneration’, ‘coda’, ‘combinat’, ‘DEoptim’, ‘doParallel’, ‘expm’, ‘foreach’, ‘mnormt’, ‘numDeriv’, ‘optimParallel’, ‘phangorn’, ‘scatterplot3d’\n",
              "\n",
              "trying URL 'https://cran.rstudio.com/src/contrib/iterators_1.0.14.tar.gz'\n",
              "trying URL 'https://cran.rstudio.com/src/contrib/fastmatch_1.1-6.tar.gz'\n",
              "trying URL 'https://cran.rstudio.com/src/contrib/igraph_2.1.4.tar.gz'\n",
              "trying URL 'https://cran.rstudio.com/src/contrib/quadprog_1.5-8.tar.gz'\n",
              "trying URL 'https://cran.rstudio.com/src/contrib/ape_5.8-1.tar.gz'\n",
              "trying URL 'https://cran.rstudio.com/src/contrib/maps_3.4.3.tar.gz'\n",
              "trying URL 'https://cran.rstudio.com/src/contrib/clusterGeneration_1.3.8.tar.gz'\n",
              "trying URL 'https://cran.rstudio.com/src/contrib/coda_0.19-4.1.tar.gz'\n",
              "trying URL 'https://cran.rstudio.com/src/contrib/combinat_0.0-8.tar.gz'\n",
              "trying URL 'https://cran.rstudio.com/src/contrib/DEoptim_2.2-8.tar.gz'\n",
              "trying URL 'https://cran.rstudio.com/src/contrib/doParallel_1.0.17.tar.gz'\n",
              "trying URL 'https://cran.rstudio.com/src/contrib/expm_1.0-0.tar.gz'\n",
              "trying URL 'https://cran.rstudio.com/src/contrib/foreach_1.5.2.tar.gz'\n",
              "trying URL 'https://cran.rstudio.com/src/contrib/mnormt_2.1.1.tar.gz'\n",
              "trying URL 'https://cran.rstudio.com/src/contrib/numDeriv_2016.8-1.1.tar.gz'\n",
              "trying URL 'https://cran.rstudio.com/src/contrib/optimParallel_1.0-2.tar.gz'\n",
              "trying URL 'https://cran.rstudio.com/src/contrib/phangorn_2.12.1.tar.gz'\n",
              "trying URL 'https://cran.rstudio.com/src/contrib/scatterplot3d_0.3-44.tar.gz'\n",
              "trying URL 'https://cran.rstudio.com/src/contrib/phytools_2.4-4.tar.gz'\n",
              "\n",
              "The downloaded source packages are in\n",
              "\t‘/tmp/RtmpSQ8IEb/downloaded_packages’\n"
            ]
          },
          "metadata": {}
        }
      ]
    },
    {
      "cell_type": "code",
      "source": [
        "%%R\n",
        "library(phytools)\n",
        "library(ape)\n",
        "library(readxl)"
      ],
      "metadata": {
        "colab": {
          "base_uri": "https://localhost:8080/",
          "height": 52
        },
        "id": "9DJVdw1HrN7D",
        "outputId": "f7449e51-2f7a-451a-893c-164e5b9667bd"
      },
      "execution_count": null,
      "outputs": [
        {
          "output_type": "display_data",
          "data": {
            "text/plain": [
              "Loading required package: ape\n",
              "Loading required package: maps\n"
            ]
          },
          "metadata": {}
        }
      ]
    },
    {
      "cell_type": "code",
      "source": [
        "%%R\n",
        "# Load your tree\n",
        "tree <-read.tree(\"/content/drive/MyDrive/PLANT RESEARCH/datasets/Copy of Rham.69t.WAonly.tree\")\n",
        "print(list(tree$tip.label))"
      ],
      "metadata": {
        "colab": {
          "base_uri": "https://localhost:8080/"
        },
        "id": "RiYQ6nZ5sSMB",
        "outputId": "d7abf913-29e5-49e0-e8ab-6caae6c42c61"
      },
      "execution_count": null,
      "outputs": [
        {
          "output_type": "stream",
          "name": "stdout",
          "text": [
            "[[1]]\n",
            " [1] \"Trymalium_angustifolium\"    \"Trymalium_urceolare\"       \n",
            " [3] \"Trymalium_ledifolium\"       \"Trymalium_monospermum\"     \n",
            " [5] \"Trymalium_litorale\"         \"Trymalium_daphnifolium\"    \n",
            " [7] \"Trymalium_myrtillus\"        \"Trymalium_elachophyllum\"   \n",
            " [9] \"Polianthion_wichurae\"       \"Polianthion_biloculare\"    \n",
            "[11] \"Polianthion_collinum\"       \"Stenanthemum_notiale\"      \n",
            "[13] \"Stenanthemum_intricatum\"    \"Stenanthemum_nanum\"        \n",
            "[15] \"Stenanthemum_coronatum\"     \"Stenanthemum_limitatum\"    \n",
            "[17] \"Stenanthemum_emarginatum\"   \"Stenanthemum_tridentatum\"  \n",
            "[19] \"Stenanthemum_reissekii\"     \"Stenanthemum_complicatum\"  \n",
            "[21] \"Stenanthemum_pumilum\"       \"Stenanthemum_humile\"       \n",
            "[23] \"Stenanthemum_sublineare\"    \"Stenanthemum_mediale\"      \n",
            "[25] \"Stenanthemum_petraeum\"      \"Stenanthemum_pomaderroides\"\n",
            "[27] \"Stenanthemum_stipulosum\"    \"Stenanthemum_newbeyi\"      \n",
            "[29] \"Cryptandra_pungens\"         \"Cryptandra_inconspicua\"    \n",
            "[31] \"Cryptandra_mutila\"          \"Cryptandra_glabriflora\"    \n",
            "[33] \"Cryptandra_spyridioides\"    \"Cryptandra_arbutiflora\"    \n",
            "[35] \"Cryptandra_congesta\"        \"Cryptandra_scoparia\"       \n",
            "[37] \"Cryptandra_nutans\"          \"Cryptandra_distigma\"       \n",
            "[39] \"Cryptandra_monticola\"       \"Cryptandra_apetala\"        \n",
            "[41] \"Cryptandra_recurva\"         \"Cryptandra_nola\"           \n",
            "[43] \"Cryptandra_dielsii\"         \"Cryptandra_intonsa\"        \n",
            "[45] \"Cryptandra_leucopogon\"      \"Cryptandra_intratropica\"   \n",
            "[47] \"Cryptandra_connata\"         \"Cryptandra_imbricata\"      \n",
            "[49] \"Cryptandra_myriantha\"       \"Cryptandra_micrantha\"      \n",
            "[51] \"Cryptandra_wilsonii\"        \"Cryptandra_minutifolia\"    \n",
            "[53] \"Cryptandra_aridicola\"       \"Spyridium_subochreatum\"    \n",
            "[55] \"Spyridium_oligocephalum\"    \"Spyridium_polycephalum\"    \n",
            "[57] \"Spyridium_cordatum\"         \"Spyridium_microcephalum\"   \n",
            "[59] \"Spyridium_minutum\"          \"Spyridium_mucronatum\"      \n",
            "[61] \"Spyridium_globulosum\"       \"Spyridium_majoranifolium\"  \n",
            "[63] \"Spyridium_glaucum\"          \"Siegfriedia_darwinioides\"  \n",
            "[65] \"Pomaderris_brevifolia\"      \"Pomaderris_myrtilloides\"   \n",
            "[67] \"Pomaderris_forrestiana\"     \"Pomaderris_rotundifolia\"   \n",
            "[69] \"Pomaderris_paniculosa\"     \n",
            "\n"
          ]
        }
      ]
    },
    {
      "cell_type": "code",
      "source": [
        "%%R\n",
        "print(tree)"
      ],
      "metadata": {
        "colab": {
          "base_uri": "https://localhost:8080/"
        },
        "id": "qL-rFkr2uG7d",
        "outputId": "ff5c9f63-7ed5-420d-f7dc-02ed12cf440e"
      },
      "execution_count": null,
      "outputs": [
        {
          "output_type": "stream",
          "name": "stdout",
          "text": [
            "\n",
            "Phylogenetic tree with 69 tips and 67 internal nodes.\n",
            "\n",
            "Tip labels:\n",
            "  Trymalium_angustifolium, Trymalium_urceolare, Trymalium_ledifolium, Trymalium_monospermum, Trymalium_litorale, Trymalium_daphnifolium, ...\n",
            "\n",
            "Rooted; includes branch length(s).\n"
          ]
        }
      ]
    },
    {
      "cell_type": "code",
      "source": [
        "%%R\n",
        "tip_label_list <- as.list(tree$tip.label)\n",
        "print(tip_label_list)"
      ],
      "metadata": {
        "colab": {
          "base_uri": "https://localhost:8080/"
        },
        "id": "5eivUz5OsemP",
        "outputId": "2cead6b9-ec9c-44ae-aeef-0aa23461b638"
      },
      "execution_count": null,
      "outputs": [
        {
          "output_type": "stream",
          "name": "stdout",
          "text": [
            "[[1]]\n",
            "[1] \"Trymalium_angustifolium\"\n",
            "\n",
            "[[2]]\n",
            "[1] \"Trymalium_urceolare\"\n",
            "\n",
            "[[3]]\n",
            "[1] \"Trymalium_ledifolium\"\n",
            "\n",
            "[[4]]\n",
            "[1] \"Trymalium_monospermum\"\n",
            "\n",
            "[[5]]\n",
            "[1] \"Trymalium_litorale\"\n",
            "\n",
            "[[6]]\n",
            "[1] \"Trymalium_daphnifolium\"\n",
            "\n",
            "[[7]]\n",
            "[1] \"Trymalium_myrtillus\"\n",
            "\n",
            "[[8]]\n",
            "[1] \"Trymalium_elachophyllum\"\n",
            "\n",
            "[[9]]\n",
            "[1] \"Polianthion_wichurae\"\n",
            "\n",
            "[[10]]\n",
            "[1] \"Polianthion_biloculare\"\n",
            "\n",
            "[[11]]\n",
            "[1] \"Polianthion_collinum\"\n",
            "\n",
            "[[12]]\n",
            "[1] \"Stenanthemum_notiale\"\n",
            "\n",
            "[[13]]\n",
            "[1] \"Stenanthemum_intricatum\"\n",
            "\n",
            "[[14]]\n",
            "[1] \"Stenanthemum_nanum\"\n",
            "\n",
            "[[15]]\n",
            "[1] \"Stenanthemum_coronatum\"\n",
            "\n",
            "[[16]]\n",
            "[1] \"Stenanthemum_limitatum\"\n",
            "\n",
            "[[17]]\n",
            "[1] \"Stenanthemum_emarginatum\"\n",
            "\n",
            "[[18]]\n",
            "[1] \"Stenanthemum_tridentatum\"\n",
            "\n",
            "[[19]]\n",
            "[1] \"Stenanthemum_reissekii\"\n",
            "\n",
            "[[20]]\n",
            "[1] \"Stenanthemum_complicatum\"\n",
            "\n",
            "[[21]]\n",
            "[1] \"Stenanthemum_pumilum\"\n",
            "\n",
            "[[22]]\n",
            "[1] \"Stenanthemum_humile\"\n",
            "\n",
            "[[23]]\n",
            "[1] \"Stenanthemum_sublineare\"\n",
            "\n",
            "[[24]]\n",
            "[1] \"Stenanthemum_mediale\"\n",
            "\n",
            "[[25]]\n",
            "[1] \"Stenanthemum_petraeum\"\n",
            "\n",
            "[[26]]\n",
            "[1] \"Stenanthemum_pomaderroides\"\n",
            "\n",
            "[[27]]\n",
            "[1] \"Stenanthemum_stipulosum\"\n",
            "\n",
            "[[28]]\n",
            "[1] \"Stenanthemum_newbeyi\"\n",
            "\n",
            "[[29]]\n",
            "[1] \"Cryptandra_pungens\"\n",
            "\n",
            "[[30]]\n",
            "[1] \"Cryptandra_inconspicua\"\n",
            "\n",
            "[[31]]\n",
            "[1] \"Cryptandra_mutila\"\n",
            "\n",
            "[[32]]\n",
            "[1] \"Cryptandra_glabriflora\"\n",
            "\n",
            "[[33]]\n",
            "[1] \"Cryptandra_spyridioides\"\n",
            "\n",
            "[[34]]\n",
            "[1] \"Cryptandra_arbutiflora\"\n",
            "\n",
            "[[35]]\n",
            "[1] \"Cryptandra_congesta\"\n",
            "\n",
            "[[36]]\n",
            "[1] \"Cryptandra_scoparia\"\n",
            "\n",
            "[[37]]\n",
            "[1] \"Cryptandra_nutans\"\n",
            "\n",
            "[[38]]\n",
            "[1] \"Cryptandra_distigma\"\n",
            "\n",
            "[[39]]\n",
            "[1] \"Cryptandra_monticola\"\n",
            "\n",
            "[[40]]\n",
            "[1] \"Cryptandra_apetala\"\n",
            "\n",
            "[[41]]\n",
            "[1] \"Cryptandra_recurva\"\n",
            "\n",
            "[[42]]\n",
            "[1] \"Cryptandra_nola\"\n",
            "\n",
            "[[43]]\n",
            "[1] \"Cryptandra_dielsii\"\n",
            "\n",
            "[[44]]\n",
            "[1] \"Cryptandra_intonsa\"\n",
            "\n",
            "[[45]]\n",
            "[1] \"Cryptandra_leucopogon\"\n",
            "\n",
            "[[46]]\n",
            "[1] \"Cryptandra_intratropica\"\n",
            "\n",
            "[[47]]\n",
            "[1] \"Cryptandra_connata\"\n",
            "\n",
            "[[48]]\n",
            "[1] \"Cryptandra_imbricata\"\n",
            "\n",
            "[[49]]\n",
            "[1] \"Cryptandra_myriantha\"\n",
            "\n",
            "[[50]]\n",
            "[1] \"Cryptandra_micrantha\"\n",
            "\n",
            "[[51]]\n",
            "[1] \"Cryptandra_wilsonii\"\n",
            "\n",
            "[[52]]\n",
            "[1] \"Cryptandra_minutifolia\"\n",
            "\n",
            "[[53]]\n",
            "[1] \"Cryptandra_aridicola\"\n",
            "\n",
            "[[54]]\n",
            "[1] \"Spyridium_subochreatum\"\n",
            "\n",
            "[[55]]\n",
            "[1] \"Spyridium_oligocephalum\"\n",
            "\n",
            "[[56]]\n",
            "[1] \"Spyridium_polycephalum\"\n",
            "\n",
            "[[57]]\n",
            "[1] \"Spyridium_cordatum\"\n",
            "\n",
            "[[58]]\n",
            "[1] \"Spyridium_microcephalum\"\n",
            "\n",
            "[[59]]\n",
            "[1] \"Spyridium_minutum\"\n",
            "\n",
            "[[60]]\n",
            "[1] \"Spyridium_mucronatum\"\n",
            "\n",
            "[[61]]\n",
            "[1] \"Spyridium_globulosum\"\n",
            "\n",
            "[[62]]\n",
            "[1] \"Spyridium_majoranifolium\"\n",
            "\n",
            "[[63]]\n",
            "[1] \"Spyridium_glaucum\"\n",
            "\n",
            "[[64]]\n",
            "[1] \"Siegfriedia_darwinioides\"\n",
            "\n",
            "[[65]]\n",
            "[1] \"Pomaderris_brevifolia\"\n",
            "\n",
            "[[66]]\n",
            "[1] \"Pomaderris_myrtilloides\"\n",
            "\n",
            "[[67]]\n",
            "[1] \"Pomaderris_forrestiana\"\n",
            "\n",
            "[[68]]\n",
            "[1] \"Pomaderris_rotundifolia\"\n",
            "\n",
            "[[69]]\n",
            "[1] \"Pomaderris_paniculosa\"\n",
            "\n"
          ]
        }
      ]
    },
    {
      "cell_type": "code",
      "source": [
        "%%R\n",
        "dd <- read.csv(\"/content/drive/MyDrive/PLANT RESEARCH/datasets/Copy of Rham-69t.subset.csv\")\n",
        "colnames(dd)"
      ],
      "metadata": {
        "colab": {
          "base_uri": "https://localhost:8080/"
        },
        "id": "bFGuK3f1se9u",
        "outputId": "13f20ad3-0977-4ced-af7c-d8ee79bd6ae4"
      },
      "execution_count": null,
      "outputs": [
        {
          "output_type": "stream",
          "name": "stdout",
          "text": [
            " [1] \"species\"             \"X.\"                  \"X..\"                \n",
            " [4] \"WA\"                  \"Age\"                 \"Ploidy\"             \n",
            " [7] \"log.length\"          \"log.area\"            \"log.turn\"           \n",
            "[10] \"log.netd\"            \"log.spec\"            \"ORDER\"              \n",
            "[13] \"species.1\"           \"Rare..Yes.No.\"       \"EPBC\"               \n",
            "[16] \"WA.1\"                \"January\"             \"February\"           \n",
            "[19] \"March\"               \"April\"               \"May\"                \n",
            "[22] \"June\"                \"July\"                \"August\"             \n",
            "[25] \"September\"           \"October\"             \"November\"           \n",
            "[28] \"December\"            \"genus\"               \"Sum.of.Months\"      \n",
            "[31] \"bio15\"               \"bio12\"               \"bio7\"               \n",
            "[34] \"bio4\"                \"AGE..Ma.\"            \"ploidy\"             \n",
            "[37] \"Length..km.\"         \"Area..km2.\"          \"speciation\"         \n",
            "[40] \"Cluster\"             \"Category_Sum_Months\"\n"
          ]
        }
      ]
    },
    {
      "cell_type": "code",
      "source": [
        "%%R\n",
        "#REMOVE missing values from the trait we're testing\n",
        "dd <- dd[!is.na(dd$Sum.of.Months), ]\n"
      ],
      "metadata": {
        "id": "vDIbYbF5vxET"
      },
      "execution_count": null,
      "outputs": []
    },
    {
      "cell_type": "code",
      "source": [
        "%%R\n",
        "# which are mismatched?\n",
        "tree_not_dd <- tree$tip.label[which(!tree$tip.label %in% dd$species)]\n",
        "dd_not_tree <- dd$species[which(!dd$species %in% tree$tip.label)]\n",
        "\n",
        "# drop mismatched\n",
        "dd <- dd[which(!dd$species %in% dd_not_tree ),]\n",
        "tree <- drop.tip(tree, tree_not_dd)"
      ],
      "metadata": {
        "id": "_nvjR7RMvjLR"
      },
      "execution_count": null,
      "outputs": []
    },
    {
      "cell_type": "code",
      "source": [
        "%%R\n",
        "# double check they match\n",
        "all(dd$species %in% tree$tip.label)\n"
      ],
      "metadata": {
        "colab": {
          "base_uri": "https://localhost:8080/"
        },
        "id": "jCKqzkwsvjNU",
        "outputId": "b13d6022-14ea-42ef-b346-cccff6001cf2"
      },
      "execution_count": null,
      "outputs": [
        {
          "output_type": "stream",
          "name": "stdout",
          "text": [
            "[1] TRUE\n"
          ]
        }
      ]
    },
    {
      "cell_type": "code",
      "source": [
        "%%R\n",
        "all(tree$tip.label %in% dd$species)"
      ],
      "metadata": {
        "colab": {
          "base_uri": "https://localhost:8080/"
        },
        "id": "z1ec3izrvjPT",
        "outputId": "e6991e3c-08ad-41a8-aaed-bf7edb070d88"
      },
      "execution_count": null,
      "outputs": [
        {
          "output_type": "stream",
          "name": "stdout",
          "text": [
            "[1] TRUE\n"
          ]
        }
      ]
    },
    {
      "cell_type": "code",
      "source": [
        "%%R\n",
        "plot(tree)"
      ],
      "metadata": {
        "colab": {
          "base_uri": "https://localhost:8080/",
          "height": 497
        },
        "id": "xGfS9YahvjRM",
        "outputId": "a2ce48a5-c242-4133-ad88-b91c70fb0e5c"
      },
      "execution_count": null,
      "outputs": [
        {
          "output_type": "display_data",
          "data": {
            "image/png": "[encoded data removed]",
            "text/plain": [
              "<IPython.core.display.Image object>"
            ]
          },
          "metadata": {}
        }
      ]
    },
    {
      "cell_type": "code",
      "source": [
        "%%R\n",
        "Ntip(tree)"
      ],
      "metadata": {
        "colab": {
          "base_uri": "https://localhost:8080/"
        },
        "id": "jCIfUa3svp3Y",
        "outputId": "891fa419-8fe3-42fd-b36c-ae2065e967cb"
      },
      "execution_count": null,
      "outputs": [
        {
          "output_type": "stream",
          "name": "stdout",
          "text": [
            "[1] 69\n"
          ]
        }
      ]
    },
    {
      "cell_type": "code",
      "source": [
        "%%R\n",
        "colnames(dd)"
      ],
      "metadata": {
        "colab": {
          "base_uri": "https://localhost:8080/"
        },
        "id": "4xNLrVsdvp5U",
        "outputId": "1228dd80-517e-4aa3-d09e-4c4407ec2cd9"
      },
      "execution_count": null,
      "outputs": [
        {
          "output_type": "stream",
          "name": "stdout",
          "text": [
            " [1] \"species\"             \"X.\"                  \"X..\"                \n",
            " [4] \"WA\"                  \"Age\"                 \"Ploidy\"             \n",
            " [7] \"log.length\"          \"log.area\"            \"log.turn\"           \n",
            "[10] \"log.netd\"            \"log.spec\"            \"ORDER\"              \n",
            "[13] \"species.1\"           \"Rare..Yes.No.\"       \"EPBC\"               \n",
            "[16] \"WA.1\"                \"January\"             \"February\"           \n",
            "[19] \"March\"               \"April\"               \"May\"                \n",
            "[22] \"June\"                \"July\"                \"August\"             \n",
            "[25] \"September\"           \"October\"             \"November\"           \n",
            "[28] \"December\"            \"genus\"               \"Sum.of.Months\"      \n",
            "[31] \"bio15\"               \"bio12\"               \"bio7\"               \n",
            "[34] \"bio4\"                \"AGE..Ma.\"            \"ploidy\"             \n",
            "[37] \"Length..km.\"         \"Area..km2.\"          \"speciation\"         \n",
            "[40] \"Cluster\"             \"Category_Sum_Months\"\n"
          ]
        }
      ]
    },
    {
      "cell_type": "code",
      "source": [
        "%%R\n",
        "# Reorder dd to match the order of tree$tip.label\n",
        "dd <- dd[match(tree$tip.label, dd$species), ]\n"
      ],
      "metadata": {
        "id": "IMjbxzGqwaaz"
      },
      "execution_count": null,
      "outputs": []
    },
    {
      "cell_type": "code",
      "source": [
        "%%R\n",
        "flowering_time <- setNames(dd$Sum.of.Months, dd$species)\n"
      ],
      "metadata": {
        "id": "NHdDptBFwafz"
      },
      "execution_count": null,
      "outputs": []
    },
    {
      "cell_type": "code",
      "source": [
        "%%R\n",
        "K_result <- phylosig(tree, flowering_time, method = \"K\", test = TRUE)\n",
        "print(K_result)\n"
      ],
      "metadata": {
        "colab": {
          "base_uri": "https://localhost:8080/"
        },
        "id": "bHswTjQXwoqx",
        "outputId": "184b8621-3d9f-4536-af5e-661160ee1752"
      },
      "execution_count": null,
      "outputs": [
        {
          "output_type": "stream",
          "name": "stdout",
          "text": [
            "\n",
            "Phylogenetic signal K : 0.450479 \n",
            "P-value (based on 1000 randomizations) : 0.074 \n",
            "\n"
          ]
        }
      ]
    },
    {
      "cell_type": "code",
      "source": [
        "%%R\n",
        "lambda_result <- phylosig(tree, flowering_time, method = \"lambda\", test = TRUE)\n",
        "print(lambda_result)\n"
      ],
      "metadata": {
        "colab": {
          "base_uri": "https://localhost:8080/"
        },
        "id": "OLpxyjmiwot4",
        "outputId": "a073d400-030a-4aad-b9d9-b5399f937222"
      },
      "execution_count": null,
      "outputs": [
        {
          "output_type": "stream",
          "name": "stdout",
          "text": [
            "\n",
            "Phylogenetic signal lambda : 0.205681 \n",
            "logL(lambda) : -155.942 \n",
            "LR(lambda=0) : 2.68671 \n",
            "P-value (based on LR test) : 0.101188 \n",
            "\n"
          ]
        }
      ]
    }
  ]
}