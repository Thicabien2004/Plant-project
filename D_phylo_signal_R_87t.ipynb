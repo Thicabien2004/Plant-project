{
  "nbformat": 4,
  "nbformat_minor": 0,
  "metadata": {
    "colab": {
      "provenance": [],
      "authorship_tag": "ABX9TyPOaonKUxflll6isIQhXtUs",
      "include_colab_link": true
    },
    "kernelspec": {
      "name": "python3",
      "display_name": "Python 3"
    },
    "language_info": {
      "name": "python"
    }
  },
  "cells": [
    {
      "cell_type": "markdown",
      "metadata": {
        "id": "view-in-github",
        "colab_type": "text"
      },
      "source": [
        "<a href=\"https://colab.research.google.com/github/Thicabien2004/Plant-project/blob/main/D_phylo_signal_R_87t.ipynb\" target=\"_parent\"><img src=\"https://colab.research.google.com/assets/colab-badge.svg\" alt=\"Open In Colab\"/></a>"
      ]
    },
    {
      "cell_type": "code",
      "execution_count": null,
      "metadata": {
        "colab": {
          "base_uri": "https://localhost:8080/"
        },
        "id": "dxFVITvbpq6-",
        "outputId": "28ad64df-f3d3-4b56-9546-c15c7abac9a4"
      },
      "outputs": [
        {
          "output_type": "stream",
          "name": "stderr",
          "text": [
            "UsageError: Cell magic `%%R` not found.\n"
          ]
        }
      ],
      "source": [
        "# rm(list=ls())\n",
        "##06-nov-2022\n",
        "#Try phylo signal test D\n",
        "#https://wiki.duke.edu/display/AnthroTree/5.5.1+Fritz+and+Purvis%27+D+in+R\n",
        "\n",
        "\n",
        "\n",
        "\n"
      ]
    },
    {
      "cell_type": "code",
      "source": [
        "%load_ext rpy2.ipython"
      ],
      "metadata": {
        "id": "hGoQVe-gp_bZ"
      },
      "execution_count": null,
      "outputs": []
    },
    {
      "cell_type": "code",
      "source": [
        "from google.colab import drive\n",
        "drive.mount('/content/drive')"
      ],
      "metadata": {
        "colab": {
          "base_uri": "https://localhost:8080/"
        },
        "id": "oTfRQ4-9qHkX",
        "outputId": "1714e6b9-df68-4667-9aac-d5fc33620291"
      },
      "execution_count": null,
      "outputs": [
        {
          "output_type": "stream",
          "name": "stdout",
          "text": [
            "Mounted at /content/drive\n"
          ]
        }
      ]
    },
    {
      "cell_type": "code",
      "source": [
        "%%R\n",
        "install.packages(\"caper\")"
      ],
      "metadata": {
        "colab": {
          "base_uri": "https://localhost:8080/",
          "height": 191
        },
        "id": "5yBSn_LvqQvM",
        "outputId": "085caa97-4ad1-4801-9187-1e19538c6886"
      },
      "execution_count": null,
      "outputs": [
        {
          "output_type": "display_data",
          "data": {
            "text/plain": [
              "Installing package into ‘/usr/local/lib/R/site-library’\n",
              "(as ‘lib’ is unspecified)\n",
              "also installing the dependencies ‘ape’, ‘mvtnorm’\n",
              "\n",
              "trying URL 'https://cran.rstudio.com/src/contrib/ape_5.8-1.tar.gz'\n",
              "trying URL 'https://cran.rstudio.com/src/contrib/mvtnorm_1.3-3.tar.gz'\n",
              "trying URL 'https://cran.rstudio.com/src/contrib/caper_1.0.3.tar.gz'\n",
              "\n",
              "The downloaded source packages are in\n",
              "\t‘/tmp/RtmpoPkhKN/downloaded_packages’\n"
            ]
          },
          "metadata": {}
        }
      ]
    },
    {
      "cell_type": "code",
      "source": [
        "%%R\n",
        "library(\"caper\")"
      ],
      "metadata": {
        "colab": {
          "base_uri": "https://localhost:8080/",
          "height": 69
        },
        "id": "aDDFbzVNqNmw",
        "outputId": "e4605d68-865c-4665-fe14-b4f280f2d457"
      },
      "execution_count": null,
      "outputs": [
        {
          "output_type": "display_data",
          "data": {
            "text/plain": [
              "Loading required package: ape\n",
              "Loading required package: MASS\n",
              "Loading required package: mvtnorm\n"
            ]
          },
          "metadata": {}
        }
      ]
    },
    {
      "cell_type": "code",
      "source": [
        "%%R\n",
        "tree <-read.tree(\"/content/drive/MyDrive/PLANT RESEARCH/datasets/Copy of Rham.87t.WAonly.tree\")\n",
        "dd <- read.csv(\"/content/drive/MyDrive/PLANT RESEARCH/datasets/processed_species_87t.csv\")\n",
        "\n"
      ],
      "metadata": {
        "id": "VSWNkC-vp7_L"
      },
      "execution_count": null,
      "outputs": []
    },
    {
      "cell_type": "code",
      "source": [
        "%%R\n",
        "head(dd,4)"
      ],
      "metadata": {
        "colab": {
          "base_uri": "https://localhost:8080/"
        },
        "id": "8TDndFpFxoJN",
        "outputId": "cd12794c-31e5-4339-d4cc-a683dd589b0a"
      },
      "execution_count": null,
      "outputs": [
        {
          "output_type": "stream",
          "name": "stdout",
          "text": [
            "                 species WA   Age Ploidy log.length log.area  log.turn\n",
            "1   Blackallia_nudiflora  1 13.04      2   2.637490 4.615813 -1.085467\n",
            "2     Cryptandra_apetala  1 10.08      2   2.904174 5.018804 -1.085238\n",
            "3 Cryptandra_arbutiflora  1  4.20      3   2.948902 5.157170 -1.053007\n",
            "4   Cryptandra_aridicola  1  4.25      2   2.795185 5.218620 -1.047692\n",
            "   log.netd  log.spec              species.1 Rare..Yes.No. EPBC WA.Ranking\n",
            "1 -1.089471 -1.087464   Blackallia nudiflora             1    0          3\n",
            "2 -1.089242 -1.087236     Cryptandra apetala             0    0          0\n",
            "3 -1.057065 -1.055031 Cryptandra arbutiflora             0    0          0\n",
            "4 -1.051777 -1.049730   Cryptandra aridicola             0    0          0\n",
            "  January February March April May June July August September October November\n",
            "1      NA       NA    NA    NA  NA   NA   NA     NA        NA      NA       NA\n",
            "2      NA       NA    NA    NA  NA   NA   NA      1         1       1       NA\n",
            "3      NA       NA    NA    NA   1    1    1      1         1       1        1\n",
            "4      NA       NA    NA    NA  NA   NA    1      1         1      NA       NA\n",
            "  December  log.b19  log.b18 log.b17  log.b16  log.b15  log.b14  log.b13\n",
            "1       NA 2.354108 1.574031 1.30103 2.366423 1.922778 0.544068 1.924279\n",
            "2       NA 2.168792 1.736397 1.60206 2.183270 1.702993 1.000000 1.736397\n",
            "3       NA 2.588832 1.795880 1.70757 2.588832 1.844523 1.176091 2.150756\n",
            "4       NA 1.829304 1.832509 1.64836 1.939519 1.504527 1.113943 1.574031\n",
            "   log.b12  log.b11  log.b10   log.b9   log.b8   log.b7    log.b6   log.b5\n",
            "1 2.621176 1.169037 1.422563 1.385159 1.206376 1.419129 0.9420081 1.543447\n",
            "2 2.542825 1.099796 1.389757 1.350894 1.120300 1.442480 0.7923917 1.526985\n",
            "3 2.890980 1.106644 1.353307 1.337126 1.127105 1.341435 0.8721563 1.472025\n",
            "4 2.436163 1.072801 1.393721 1.254669 1.295933 1.457882 0.6901961 1.523746\n",
            "    log.b4   log.b3   log.b2   log.b1\n",
            "1 2.679111 1.713628 1.133539 1.312371\n",
            "2 2.722043 1.692828 1.140010 1.267563\n",
            "3 2.606335 1.705590 1.066015 1.247155\n",
            "4 2.714858 1.699004 1.146516 1.272422\n"
          ]
        }
      ]
    },
    {
      "cell_type": "code",
      "source": [
        "%%R\n",
        "colnames(dd)"
      ],
      "metadata": {
        "colab": {
          "base_uri": "https://localhost:8080/"
        },
        "id": "KbYQaX9byrC0",
        "outputId": "0bf508bf-7cc5-49b9-8fec-42a831b87145"
      },
      "execution_count": null,
      "outputs": [
        {
          "output_type": "stream",
          "name": "stdout",
          "text": [
            " [1] \"species\"       \"WA\"            \"Age\"           \"Ploidy\"       \n",
            " [5] \"log.length\"    \"log.area\"      \"log.turn\"      \"log.netd\"     \n",
            " [9] \"log.spec\"      \"species.1\"     \"Rare..Yes.No.\" \"EPBC\"         \n",
            "[13] \"WA.Ranking\"    \"January\"       \"February\"      \"March\"        \n",
            "[17] \"April\"         \"May\"           \"June\"          \"July\"         \n",
            "[21] \"August\"        \"September\"     \"October\"       \"November\"     \n",
            "[25] \"December\"      \"log.b19\"       \"log.b18\"       \"log.b17\"      \n",
            "[29] \"log.b16\"       \"log.b15\"       \"log.b14\"       \"log.b13\"      \n",
            "[33] \"log.b12\"       \"log.b11\"       \"log.b10\"       \"log.b9\"       \n",
            "[37] \"log.b8\"        \"log.b7\"        \"log.b6\"        \"log.b5\"       \n",
            "[41] \"log.b4\"        \"log.b3\"        \"log.b2\"        \"log.b1\"       \n"
          ]
        }
      ]
    },
    {
      "cell_type": "code",
      "source": [
        "%%R\n",
        "tree$tip.label"
      ],
      "metadata": {
        "colab": {
          "base_uri": "https://localhost:8080/"
        },
        "id": "dmGOgQ070tSp",
        "outputId": "67467731-7e29-4516-ef56-6dd4a78542a1"
      },
      "execution_count": null,
      "outputs": [
        {
          "output_type": "stream",
          "name": "stdout",
          "text": [
            " [1] \"Trymalium_angustifolium\"    \"Trymalium_urceolare\"       \n",
            " [3] \"Trymalium_ledifolium\"       \"Trymalium_monospermum\"     \n",
            " [5] \"Trymalium_litorale\"         \"Trymalium_odoratissimum\"   \n",
            " [7] \"Trymalium_spatulatum\"       \"Trymalium_daphnifolium\"    \n",
            " [9] \"Trymalium_myrtillus\"        \"Trymalium_elachophyllum\"   \n",
            "[11] \"Polianthion_wichurae\"       \"Polianthion_biloculare\"    \n",
            "[13] \"Polianthion_collinum\"       \"Stenanthemum_notiale\"      \n",
            "[15] \"Stenanthemum_radiatum\"      \"Stenanthemum_intricatum\"   \n",
            "[17] \"Stenanthemum_divaricatum\"   \"Stenanthemum_nanum\"        \n",
            "[19] \"Stenanthemum_coronatum\"     \"Stenanthemum_limitatum\"    \n",
            "[21] \"Stenanthemum_emarginatum\"   \"Stenanthemum_tridentatum\"  \n",
            "[23] \"Stenanthemum_reissekii\"     \"Stenanthemum_complicatum\"  \n",
            "[25] \"Stenanthemum_pumilum\"       \"Stenanthemum_humile\"       \n",
            "[27] \"Stenanthemum_sublineare\"    \"Stenanthemum_yorkense\"     \n",
            "[29] \"Stenanthemum_mediale\"       \"Stenanthemum_petraeum\"     \n",
            "[31] \"Stenanthemum_pomaderroides\" \"Stenanthemum_bremerense\"   \n",
            "[33] \"Stenanthemum_stipulosum\"    \"Stenanthemum_liberum\"      \n",
            "[35] \"Stenanthemum_newbeyi\"       \"Stenanthemum_patens\"       \n",
            "[37] \"Cryptandra_pungens\"         \"Cryptandra_inconspicua\"    \n",
            "[39] \"Cryptandra_mutila\"          \"Cryptandra_glabriflora\"    \n",
            "[41] \"Cryptandra_spyridioides\"    \"Cryptandra_arbutiflora\"    \n",
            "[43] \"Cryptandra_pendula\"         \"Cryptandra_stellulata\"     \n",
            "[45] \"Cryptandra_multispina\"      \"Cryptandra_congesta\"       \n",
            "[47] \"Cryptandra_scoparia\"        \"Cryptandra_nutans\"         \n",
            "[49] \"Cryptandra_distigma\"        \"Cryptandra_monticola\"      \n",
            "[51] \"Cryptandra_apetala\"         \"Cryptandra_recurva\"        \n",
            "[53] \"Cryptandra_nola\"            \"Cryptandra_dielsii\"        \n",
            "[55] \"Cryptandra_intonsa\"         \"Cryptandra_leucopogon\"     \n",
            "[57] \"Cryptandra_intratropica\"    \"Cryptandra_connata\"        \n",
            "[59] \"Cryptandra_imbricata\"       \"Cryptandra_myriantha\"      \n",
            "[61] \"Cryptandra_micrantha\"       \"Cryptandra_wilsonii\"       \n",
            "[63] \"Cryptandra_minutifolia\"     \"Cryptandra_beverleyensis\"  \n",
            "[65] \"Cryptandra_crispula\"        \"Cryptandra_aridicola\"      \n",
            "[67] \"Cryptandra_exserta\"         \"Blackallia_nudiflora\"      \n",
            "[69] \"Papistylus_grandiflorus\"    \"Serichonus_gracilipes\"     \n",
            "[71] \"Spyridium_subochreatum\"     \"Spyridium_oligocephalum\"   \n",
            "[73] \"Spyridium_polycephalum\"     \"Spyridium_cordatum\"        \n",
            "[75] \"Spyridium_Jerdacuttup\"      \"Spyridium_microcephalum\"   \n",
            "[77] \"Spyridium_minutum\"          \"Spyridium_mucronatum\"      \n",
            "[79] \"Spyridium_globulosum\"       \"Spyridium_majoranifolium\"  \n",
            "[81] \"Spyridium_glaucum\"          \"Siegfriedia_darwinioides\"  \n",
            "[83] \"Pomaderris_brevifolia\"      \"Pomaderris_myrtilloides\"   \n",
            "[85] \"Pomaderris_forrestiana\"     \"Pomaderris_rotundifolia\"   \n",
            "[87] \"Pomaderris_paniculosa\"     \n"
          ]
        }
      ]
    },
    {
      "cell_type": "code",
      "source": [
        "%%R\n",
        "# which are mismatched?\n",
        "tree_not_dd <- tree$tip.label[which(!tree$tip.label %in% dd$species)]\n",
        "dd_not_tree <- dd$species[which(!dd$species %in% tree$tip.label)]\n",
        "\n",
        "# drop mismatched\n",
        "dd <- dd[which(!dd$species %in% dd_not_tree ),]\n",
        "tree <- drop.tip(tree, tree_not_dd)"
      ],
      "metadata": {
        "id": "QzeVUVLmp-oy"
      },
      "execution_count": null,
      "outputs": []
    },
    {
      "cell_type": "code",
      "source": [
        "%%R\n",
        "# double check they match\n",
        "all(dd$species %in% tree$tip.label)\n"
      ],
      "metadata": {
        "colab": {
          "base_uri": "https://localhost:8080/"
        },
        "id": "zFX-cotWqY9I",
        "outputId": "c082dd07-9665-4a57-dcc9-565984710c83"
      },
      "execution_count": null,
      "outputs": [
        {
          "output_type": "stream",
          "name": "stdout",
          "text": [
            "[1] TRUE\n"
          ]
        }
      ]
    },
    {
      "cell_type": "code",
      "source": [
        "%%R\n",
        "all(tree$tip.label %in% dd$species)\n"
      ],
      "metadata": {
        "colab": {
          "base_uri": "https://localhost:8080/"
        },
        "id": "WY3_6UKJxyqg",
        "outputId": "06c4c603-67f9-45f1-ec58-149c7408fc5e"
      },
      "execution_count": null,
      "outputs": [
        {
          "output_type": "stream",
          "name": "stdout",
          "text": [
            "[1] TRUE\n"
          ]
        }
      ]
    },
    {
      "cell_type": "code",
      "source": [
        "%%R\n",
        "dd <- dd[match(tree$tip.label, dd$species), ]"
      ],
      "metadata": {
        "id": "9kgFwQdj6zk3"
      },
      "execution_count": null,
      "outputs": []
    },
    {
      "cell_type": "code",
      "source": [
        "%%R\n",
        "plot(tree)\n",
        "Ntip(tree)"
      ],
      "metadata": {
        "colab": {
          "base_uri": "https://localhost:8080/",
          "height": 514
        },
        "id": "lzSvN5Xyqd6e",
        "outputId": "61598da0-6880-4255-f006-69515dbb7f0c"
      },
      "execution_count": null,
      "outputs": [
        {
          "output_type": "stream",
          "name": "stdout",
          "text": [
            "[1] 87\n"
          ]
        },
        {
          "output_type": "display_data",
          "data": {
            "image/png": "[encoded data removed]",
            "text/plain": [
              "<IPython.core.display.Image object>"
            ]
          },
          "metadata": {}
        }
      ]
    },
    {
      "cell_type": "code",
      "source": [
        "%%R\n",
        "dd$Ploidy"
      ],
      "metadata": {
        "colab": {
          "base_uri": "https://localhost:8080/"
        },
        "id": "bjq6E8Kr3-86",
        "outputId": "e71f7c4c-c43f-46ad-e250-4862edf99a34"
      },
      "execution_count": null,
      "outputs": [
        {
          "output_type": "stream",
          "name": "stdout",
          "text": [
            " [1] 2 2 2 2 3 2 2 2 2 2 2 2 4 4 2 4 2 2 3 2 2 4 2 2 2 4 2 2 4 2 2 2 4 2 2 4 3 2\n",
            "[39] 2 2 4 3 2 2 3 3 4 3 4 2 2 3 2 2 4 3 2 2 2 4 2 4 4 3 4 2 4 2 2 2 2 2 2 3 4 2\n",
            "[77] 4 3 4 2 3 2 2 2 3 2 3\n"
          ]
        }
      ]
    },
    {
      "cell_type": "code",
      "source": [
        "%%R\n",
        "dd$WA.Ranking\n"
      ],
      "metadata": {
        "colab": {
          "base_uri": "https://localhost:8080/"
        },
        "id": "9O2FVf8z6Tgm",
        "outputId": "9807e4fd-01fb-4ba7-dbf1-fd5dd686120c"
      },
      "execution_count": null,
      "outputs": [
        {
          "output_type": "stream",
          "name": "stdout",
          "text": [
            " [1] 0 0 0 2 1 0 0 0 0 0 0 4 3 0 2 0 3 0 0 2 0 0 0 0 0 0 2 1 1 0 0 4 0 1 3 1 0 2\n",
            "[39] 0 2 0 0 1 3 0 4 0 0 0 0 0 0 3 3 0 0 0 0 0 0 0 0 0 3 3 0 1 3 2 3 2 3 0 0 0 0\n",
            "[77] 0 0 0 0 0 0 0 0 0 0 0\n"
          ]
        }
      ]
    },
    {
      "cell_type": "code",
      "source": [
        "%%R\n",
        "# Create a binary variable from the 'Ploidy' column\n",
        "# Assuming values > 0 are one category (1) and value == 0 is the other (0)\n",
        "dd$WA.Ranking <- as.numeric(dd$WA.Ranking > 0)\n",
        "\n",
        "#after match tree and dataset\n",
        "primate <- comparative.data(phy = tree, data = dd, names.col = species, vcv = TRUE, na.omit = FALSE, warn.dropped = TRUE)"
      ],
      "metadata": {
        "id": "NtUhK_6pqiK2"
      },
      "execution_count": null,
      "outputs": []
    },
    {
      "cell_type": "code",
      "source": [
        "%%R\n",
        "dd$WA.Ranking"
      ],
      "metadata": {
        "colab": {
          "base_uri": "https://localhost:8080/"
        },
        "id": "Skrz5Q9a3yuK",
        "outputId": "142dd7af-7667-4ac0-ba4a-07b7a441cbc4"
      },
      "execution_count": null,
      "outputs": [
        {
          "output_type": "stream",
          "name": "stdout",
          "text": [
            " [1] 0 0 0 1 1 0 0 0 0 0 0 1 1 0 1 0 1 0 0 1 0 0 0 0 0 0 1 1 1 0 0 1 0 1 1 1 0 1\n",
            "[39] 0 1 0 0 1 1 0 1 0 0 0 0 0 0 1 1 0 0 0 0 0 0 0 0 0 1 1 0 1 1 1 1 1 1 0 0 0 0\n",
            "[77] 0 0 0 0 0 0 0 0 0 0 0\n"
          ]
        }
      ]
    },
    {
      "cell_type": "code",
      "source": [
        "%%R\n",
        "#D stat BINARY ONLY\n",
        "#To estimate D we use function 'phylo.d'\n",
        "result = phylo.d(data=primate, binvar = WA.Ranking, permut = 10000)\n",
        "result\n"
      ],
      "metadata": {
        "colab": {
          "base_uri": "https://localhost:8080/"
        },
        "id": "Ik9uwX_63bCJ",
        "outputId": "52ad66b5-4ec2-4fd9-bed2-53adf9953194"
      },
      "execution_count": null,
      "outputs": [
        {
          "output_type": "stream",
          "name": "stdout",
          "text": [
            "\n",
            "Calculation of D statistic for the phylogenetic structure of a binary variable\n",
            "\n",
            "  Data :  dd\n",
            "  Binary variable :  WA.Ranking\n",
            "  Counts of states:  0 = 58\n",
            "                     1 = 29\n",
            "  Phylogeny :  tree\n",
            "  Number of permutations :  10000\n",
            "\n",
            "Estimated D :  0.8580936\n",
            "Probability of E(D) resulting from no (random) phylogenetic structure :  0.2265\n",
            "Probability of E(D) resulting from Brownian phylogenetic structure    :  0.003\n",
            "\n"
          ]
        }
      ]
    },
    {
      "cell_type": "code",
      "source": [
        "%%R\n",
        "plot(result)"
      ],
      "metadata": {
        "colab": {
          "base_uri": "https://localhost:8080/",
          "height": 497
        },
        "id": "xT7qywc73eyk",
        "outputId": "3469bab9-fc63-468a-a3e2-758bc5a54e77"
      },
      "execution_count": null,
      "outputs": [
        {
          "output_type": "display_data",
          "data": {
            "image/png": "[encoded data removed]",
            "text/plain": [
              "<IPython.core.display.Image object>"
            ]
          },
          "metadata": {}
        }
      ]
    }
  ]
}